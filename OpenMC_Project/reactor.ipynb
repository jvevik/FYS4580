{
 "cells": [
  {
   "cell_type": "code",
   "execution_count": 1,
   "metadata": {},
   "outputs": [],
   "source": [
    "%matplotlib inline\n",
    "import matplotlib.pyplot as plt\n",
    "import numpy as np\n",
    "import openmc\n",
    "import openmc.deplete\n",
    "import pandas as pd\n",
    "from os import listdir\n",
    "from os.path import isfile, join\n",
    "#OPENMC_CROSS_SECTIONS = '/Users/Julian/nndc_hdf5/cross_sections.xml'"
   ]
  },
  {
   "cell_type": "code",
   "execution_count": 2,
   "metadata": {},
   "outputs": [],
   "source": [
    "#OpenMC simulation parameters\n",
    "batches = 100\n",
    "inactive = 8\n",
    "particles = 1000"
   ]
  },
  {
   "cell_type": "markdown",
   "metadata": {},
   "source": [
    "Defining materials:"
   ]
  },
  {
   "cell_type": "code",
   "execution_count": 3,
   "metadata": {},
   "outputs": [],
   "source": [
    "#Fuel material settings:\n",
    "fuel_material = openmc.Material(11, name='Thorium fuel')\n",
    "fuel_material.set_density('g/cm3', 10.062)\n",
    "fuel_material.add_element(\"Th\", 0.9)\n",
    "fuel_material.add_nuclide('Pu239', 0.092) #weaponsgrade ref:\n",
    "fuel_material.add_nuclide('Pu240', 0.008) #https://www.world-nuclear.org/information-library/nuclear-fuel-cycle/fuel-recycling/plutonium.aspx\n",
    "fuel_material.add_element(\"O\", 2.0)\n",
    "fuel_material.depletable = True\n",
    "\n",
    "\n",
    "#Fuel material setting\n",
    "uo2_2 = openmc.Material(material_id=21, name='2nd Discretization, UO2 fuel at 2.4% wt enrichment')\n",
    "uo2_2.set_density('g/cm3', 10.29769)\n",
    "uo2_2.add_element('U', 1., enrichment=2.45)\n",
    "uo2_2.add_element('O', 2.)\n",
    "uo2_2.depletable = True\n",
    "\n",
    "# Fuel gap material setting\n",
    "helium = openmc.Material(material_id=13, name='Helium for gap')\n",
    "helium.set_density('g/cm3', 0.001598)\n",
    "helium.add_element('He', 2.4044e-4)\n",
    "\n",
    "\n",
    "# Fuel cladding material setting\n",
    "clad = openmc.Material(material_id=14, name='Zircaloy 4')\n",
    "clad.set_density('g/cm3', 6.55)\n",
    "clad.add_element('Sn', 0.014  , 'wo')\n",
    "clad.add_element('Fe', 0.00165, 'wo')\n",
    "clad.add_element('Cr', 0.001  , 'wo')\n",
    "clad.add_element('Zr', 0.98335, 'wo')\n",
    "\n",
    "\n",
    "\n",
    "# Moderator material setting\n",
    "borated_water = openmc.Material(material_id=15, name='Borated water')\n",
    "borated_water.set_density('g/cm3', 0.740582)\n",
    "borated_water.add_element('B', 4.0e-5)\n",
    "borated_water.add_element('H', 5.0e-2)\n",
    "borated_water.add_element('O', 2.4e-2)\n",
    "borated_water.add_s_alpha_beta('c_H_in_H2O')\n",
    "\n",
    "\n",
    "# Cold water\n",
    "cold_water = openmc.Material(material_id=16, name='Cold borated water')\n",
    "cold_water.set_density('atom/b-cm', 0.07416)\n",
    "cold_water.add_nuclide(\"H1\", 2.0)\n",
    "cold_water.add_nuclide(\"O16\", 1.0)\n",
    "cold_water.add_nuclide(\"B10\", 6.490e-4)\n",
    "cold_water.add_nuclide(\"B11\", 2.689e-3)\n",
    "cold_water.add_s_alpha_beta('c_H_in_H2O')\n",
    "\n",
    "# Hot water\n",
    "hot_water = openmc.Material(material_id=17, name='Hot borated water')\n",
    "hot_water.set_density('atom/b-cm', 0.06614)\n",
    "hot_water.add_nuclide(\"H1\", 2.0)\n",
    "hot_water.add_nuclide(\"O16\", 1.0)\n",
    "hot_water.add_nuclide(\"B10\", 6.490e-4)\n",
    "hot_water.add_nuclide(\"B11\", 2.689e-3)\n",
    "hot_water.add_s_alpha_beta('c_H_in_H2O')\n",
    "\n",
    "# Alternative moderator\n",
    "heavy_water = openmc.Material(material_id=18,name='heavy water')\n",
    "heavy_water.add_nuclide('H2', 2.0)\n",
    "heavy_water.add_nuclide('O16', 1.0)\n",
    "heavy_water.add_s_alpha_beta('c_D_in_D2O')\n",
    "heavy_water.set_density('g/cm3', 1.1)\n",
    "\n",
    "\n",
    "# Reactor shielding material\n",
    "shielding = openmc.Material(material_id=19, name='Bottom plate region')\n",
    "shielding.set_density('g/cm3', 7.184)\n",
    "shielding.add_nuclide(\"H1\", 0.0011505, 'wo')\n",
    "shielding.add_nuclide(\"O16\", 0.0091296, 'wo')\n",
    "shielding.add_nuclide(\"B10\", 3.70915e-6, 'wo')\n",
    "shielding.add_nuclide(\"B11\", 1.68974e-5, 'wo')\n",
    "shielding.add_nuclide(\"Fe54\", 0.03855611055, 'wo')\n",
    "shielding.add_nuclide(\"Fe56\", 0.627585036425, 'wo')\n",
    "shielding.add_nuclide(\"Fe57\", 0.014750478, 'wo')\n",
    "shielding.add_nuclide(\"Fe58\", 0.002000875025, 'wo')\n",
    "shielding.add_nuclide(\"Ni58\", 0.059855207342, 'wo')\n",
    "shielding.add_nuclide(\"Mn55\", 0.0197940, 'wo')\n",
    "shielding.add_nuclide(\"Cr52\", 0.157390026871, 'wo')\n",
    "shielding.add_s_alpha_beta('c_H_in_H2O')\n",
    "\n",
    "# Reactor pressure vessel material\n",
    "steel = openmc.Material(material_id=20, name='Reactor pressure vessel steel')\n",
    "steel.set_density('g/cm3', 7.9)\n",
    "steel.add_nuclide(\"Fe54\", 0.05437098, 'wo')\n",
    "steel.add_nuclide(\"Fe56\", 0.88500663, 'wo')\n",
    "steel.add_nuclide(\"Fe57\", 0.0208008, 'wo')\n",
    "steel.add_nuclide(\"Fe58\", 0.00282159, 'wo')\n",
    "steel.add_nuclide(\"Ni58\", 0.0067198, 'wo')\n",
    "steel.add_nuclide(\"Ni60\", 0.0026776, 'wo')\n",
    "steel.add_nuclide(\"Mn55\", 0.01, 'wo')\n",
    "steel.add_nuclide(\"Cr52\", 0.002092475, 'wo')\n",
    "steel.add_nuclide(\"C0\", 0.0025, 'wo')\n",
    "steel.add_nuclide(\"Cu63\", 0.0013696, 'wo')\n",
    "\n",
    "\n",
    "\n",
    "#Unborated water:\n",
    "norm_water = openmc.Material(material_id=22,name='test borated water')\n",
    "norm_water.set_density('g/cm3', 0.740582)\n",
    "norm_water.add_element('H', 2.0)\n",
    "norm_water.add_element('O', 1.0)\n",
    "norm_water.add_element('B', 25635.2 * 1e-6)\n",
    "norm_water.add_s_alpha_beta('c_H_in_H2O')"
   ]
  },
  {
   "cell_type": "markdown",
   "metadata": {},
   "source": [
    "Adding materials and exporting to .xml-file:"
   ]
  },
  {
   "cell_type": "code",
   "execution_count": 4,
   "metadata": {},
   "outputs": [],
   "source": [
    "materials_thoriumreactor = openmc.Materials([fuel_material, uo2_2, helium,\n",
    "                                            clad, borated_water,\n",
    "                                            cold_water, hot_water,\n",
    "                                            shielding, steel,\n",
    "                                            heavy_water,norm_water])\n",
    "\n",
    "materials_thoriumreactor.cross_sections = '/Users/Julian/nndc_hdf5/cross_sections.xml'\n",
    "\n",
    "materials_thoriumreactor.export_to_xml()"
   ]
  },
  {
   "cell_type": "markdown",
   "metadata": {},
   "source": [
    "Creating the geometry:"
   ]
  },
  {
   "cell_type": "code",
   "execution_count": 5,
   "metadata": {},
   "outputs": [],
   "source": [
    "#Creating the surfaces for the fuel elements\n",
    "fuel_surf = openmc.ZCylinder(r=0.38218,surface_id=1) #Surface fuel pellets\n",
    "fuel_surf_gap = openmc.ZCylinder(r=0.395,surface_id=2) #Surface fuel gap\n",
    "fuel_surf_clad_ir = openmc.ZCylinder(r=0.41005,surface_id=3) #Surface fuel cladding inner radius\n",
    "fuel_surf_clad_or = openmc.ZCylinder(r=0.46720,surface_id=4) #Surface fuel cladding outer radius\n",
    "\n",
    "\n",
    "#Creating surfaces for tank and shielding\n",
    "core_surf_tank_inner = openmc.ZCylinder(r=77.0,surface_id=5) #Inner surface reactor tank\n",
    "core_surf_tank_outer = openmc.ZCylinder(r=80.0,surface_id=6) #Outer surface reactor tank\n",
    "core_surf_vac = openmc.ZCylinder(r=90.0,surface_id=7, boundary_type='vacuum')\n",
    "\n",
    "core_surf_shield_low = openmc.ZPlane(z0=-90.0, surface_id=8, boundary_type='vacuum') #Shielding lower\n",
    "core_surf_lowertank_wall_out = openmc.ZPlane(z0=-85.0, surface_id=9) #Tank lower wall outside\n",
    "core_surf_lowertank_wall_in = openmc.ZPlane(z0=-83.0, surface_id=10) #Tank lower wall inside\n",
    "core_surf_midtank = openmc.ZPlane(z0=0.0, surface_id=11) #Middle of tank\n",
    "core_surf_uppertank_wall_in = openmc.ZPlane(z0=83.0, surface_id=12) #Tank upper wall inside\n",
    "core_surf_uppertank_wall_out = openmc.ZPlane(z0=85.0, surface_id=13) #Tank upper wall outside\n",
    "core_surf_shield_upper = openmc.ZPlane(z0=90.0, surface_id=14, boundary_type='vacuum') #Shielding upper"
   ]
  },
  {
   "cell_type": "markdown",
   "metadata": {},
   "source": [
    "Creating volumes and filling them with materials:"
   ]
  },
  {
   "cell_type": "code",
   "execution_count": 6,
   "metadata": {},
   "outputs": [],
   "source": [
    "#Defining pin cell\n",
    "fuel = openmc.Universe(name='Fuel pin, cladding',\n",
    "                      universe_id=1)\n",
    "\n",
    "fuel_cell_21 = openmc.Cell(cell_id=21, fill=fuel_material, region=-fuel_surf)\n",
    "fuel_cell_22 = openmc.Cell(cell_id=22, fill=clad, region=+fuel_surf_clad_ir & -fuel_surf_clad_or)\n",
    "fuel_cell_23 = openmc.Cell(cell_id=23, fill=norm_water, region=+fuel_surf_clad_or)\n",
    "fuel_cell_gap = openmc.Cell(cell_id=69, fill=helium, region=+fuel_surf & -fuel_surf_clad_ir)\n",
    "fuel.add_cells((fuel_cell_21, fuel_cell_gap,fuel_cell_22, fuel_cell_23))\n",
    "\n",
    "\n",
    "\n",
    "tube_cold = openmc.Universe(name='Instrumentation guide tube,  '\n",
    "                            'cold water', universe_id=2)\n",
    "\n",
    "fuel_cell_24 = openmc.Cell(cell_id=24, fill=norm_water, region=-fuel_surf_clad_ir)\n",
    "fuel_cell_25 = openmc.Cell(cell_id=25, fill=clad, region=+fuel_surf_clad_ir & -fuel_surf_clad_or)\n",
    "fuel_cell_26 = openmc.Cell(cell_id=26, fill=norm_water, region=+fuel_surf_clad_or)\n",
    "tube_cold.add_cells((fuel_cell_24, fuel_cell_25, fuel_cell_26))\n",
    "\n",
    "\n",
    "\n",
    "#Defining assemblies\n",
    "moderator_assembly = openmc.Universe(name='Water assembly',\n",
    "                                    universe_id=5)\n",
    "fuel_cell_50 = openmc.Cell(cell_id=50,fill=borated_water,\n",
    "                           region=+core_surf_lowertank_wall_in & -core_surf_uppertank_wall_in)\n",
    "moderator_assembly.add_cell(fuel_cell_50)\n",
    "\n",
    "\n",
    "#Set positions occupied by guide tubes\n",
    "tube_x = np.array([4,5,5,4])\n",
    "tube_y = np.array([5,5,4,4])\n",
    "\n",
    "\n",
    "\n",
    "#Defining assembly lattice\n",
    "fuel_lattice_101 = openmc.RectLattice(name='Fuel lattice',\n",
    "                                     lattice_id=101)\n",
    "fuel_lattice_101.lower_left = (-5,-5)\n",
    "fuel_lattice_101.pitch = (1,1)\n",
    "fuel_lattice_101.universes = np.tile(fuel,(10,10))\n",
    "fuel_lattice_101.universes[tube_x,tube_y] = tube_cold\n",
    "\n",
    "\n",
    "#Construct filling for the reactor core lattice\n",
    "fuel_assembly = openmc.Universe(name='Fuel assembly',\n",
    "                               universe_id = 6)\n",
    "fuel_assembly_cell_60 = openmc.Cell(cell_id=60, fill=fuel_lattice_101,\n",
    "                                   region = +core_surf_lowertank_wall_in & -core_surf_uppertank_wall_in)\n",
    "fuel_assembly.add_cell(fuel_assembly_cell_60)\n",
    "\n",
    "\n",
    "\n",
    "fuel_assembly_hotwater = openmc.Universe(name='Water assembly',\n",
    "                                          universe_id=8)\n",
    "fuel_cell_70 = openmc.Cell(cell_id=70,fill=norm_water,\n",
    "                          region= +core_surf_lowertank_wall_in & -core_surf_uppertank_wall_in)\n",
    "fuel_assembly_hotwater.add_cell(fuel_cell_70)\n",
    "\n",
    "\n",
    "#Constructing core lattice\n",
    "core_lattice = openmc.RectLattice(name='Core lattice',\n",
    "                                 lattice_id=200)\n",
    "core_lattice.lower_left = (-80.0,-80.0)\n",
    "core_lattice.pitch = (10,10)\n",
    "core_lattice.universes = [[fuel_assembly_hotwater]*16,\n",
    "                         [fuel_assembly_hotwater]*5 + [fuel_assembly]*6 + [fuel_assembly_hotwater]*5,\n",
    "                         [fuel_assembly_hotwater]*4 + [fuel_assembly]*8 + [fuel_assembly_hotwater]*4,\n",
    "                         [fuel_assembly_hotwater]*3 + [fuel_assembly]*10 + [fuel_assembly_hotwater]*3,\n",
    "                         [fuel_assembly_hotwater]*2 + [fuel_assembly]*12 + [fuel_assembly_hotwater]*2,\n",
    "                         [fuel_assembly_hotwater]*1 + [fuel_assembly]*14 + [fuel_assembly_hotwater]*1,\n",
    "                         [fuel_assembly_hotwater]*1 + [fuel_assembly]*14 + [fuel_assembly_hotwater]*1,\n",
    "                         [fuel_assembly_hotwater]*1 + [fuel_assembly]*14 + [fuel_assembly_hotwater]*1,\n",
    "                         [fuel_assembly_hotwater]*1 + [fuel_assembly]*14 + [fuel_assembly_hotwater]*1,\n",
    "                         [fuel_assembly_hotwater]*1 + [fuel_assembly]*14 + [fuel_assembly_hotwater]*1,\n",
    "                         [fuel_assembly_hotwater]*1 + [fuel_assembly]*14 + [fuel_assembly_hotwater]*1,\n",
    "                         [fuel_assembly_hotwater]*2 + [fuel_assembly]*12 + [fuel_assembly_hotwater]*2,\n",
    "                         [fuel_assembly_hotwater]*3 + [fuel_assembly]*10 + [fuel_assembly_hotwater]*3,\n",
    "                         [fuel_assembly_hotwater]*4 + [fuel_assembly]*8 + [fuel_assembly_hotwater]*4,\n",
    "                         [fuel_assembly_hotwater]*5 + [fuel_assembly]*6 + [fuel_assembly_hotwater]*5,\n",
    "                         [fuel_assembly_hotwater]*16]"
   ]
  },
  {
   "cell_type": "markdown",
   "metadata": {},
   "source": [
    "Filling the simulation universe:"
   ]
  },
  {
   "cell_type": "code",
   "execution_count": 7,
   "metadata": {},
   "outputs": [],
   "source": [
    "geometry = openmc.Geometry()\n",
    "\n",
    "#Assign cells to the universe\n",
    "simulation_universe = openmc.Universe(universe_id=0,\n",
    "                                     name='root universe')\n",
    "\n",
    "c1 = openmc.Cell(cell_id=1, fill=core_lattice,\n",
    "                region= -core_surf_tank_inner & +core_surf_lowertank_wall_in & -core_surf_uppertank_wall_in,\n",
    "                name='Tank')\n",
    "\n",
    "c2 = openmc.Cell(cell_id=2, fill=steel,\n",
    "                region= -core_surf_tank_outer & +core_surf_tank_inner & +core_surf_lowertank_wall_in & -core_surf_uppertank_wall_in)\n",
    "\n",
    "c3 = openmc.Cell(cell_id=3, fill=shielding,\n",
    "                region= -core_surf_vac & +core_surf_tank_outer & +core_surf_lowertank_wall_in & -core_surf_uppertank_wall_in)\n",
    "\n",
    "c4 = openmc.Cell(cell_id=4, fill=steel,\n",
    "                region= -core_surf_vac & +core_surf_uppertank_wall_in & -core_surf_uppertank_wall_out)\n",
    "\n",
    "c5 = openmc.Cell(cell_id=5, fill=steel,\n",
    "                region= -core_surf_vac & +core_surf_lowertank_wall_out & -core_surf_lowertank_wall_in)\n",
    "\n",
    "c6 = openmc.Cell(cell_id=6, fill=shielding,\n",
    "                region= -core_surf_vac & +core_surf_uppertank_wall_out & -core_surf_shield_upper)\n",
    "\n",
    "c7 = openmc.Cell(cell_id=7, fill=shielding,\n",
    "                region= -core_surf_vac & +core_surf_shield_low & -core_surf_lowertank_wall_out)\n",
    "\n",
    "\n",
    "simulation_universe.add_cells((c1,c2,c3,c4,c5,c6,c7))\n",
    "geometry.root_universe = simulation_universe"
   ]
  },
  {
   "cell_type": "markdown",
   "metadata": {},
   "source": [
    "Setting volumes of the depletable materials"
   ]
  },
  {
   "cell_type": "code",
   "execution_count": 8,
   "metadata": {},
   "outputs": [
    {
     "name": "stdout",
     "output_type": "stream",
     "text": [
      "Volume: 1713864.1364692263\n"
     ]
    }
   ],
   "source": [
    "# Compute cell areas\n",
    "volume = {}\n",
    "volume[fuel_material] = np.pi * (fuel_surf.coefficients['r'] ** 2) * 2*np.abs(core_surf_lowertank_wall_in.coefficients['z0']) * 10 * 10 * 15*15\n",
    "#volume[fuel_cold] = np.pi * s1.coefficients['r'] ** 2\n",
    "\n",
    "# Set materials volume for depletion. Set to an area for 2D simulations\n",
    "fuel_material.volume = volume[fuel_material] #+ volume[fuel_hot];\n",
    "\n",
    "print('Volume:', volume[fuel_material])"
   ]
  },
  {
   "cell_type": "markdown",
   "metadata": {},
   "source": [
    "Creating tallies to obtain neutron information:"
   ]
  },
  {
   "cell_type": "code",
   "execution_count": 9,
   "metadata": {},
   "outputs": [],
   "source": [
    "tallies_file = openmc.Tallies()\n",
    "\n",
    "#Creating energy filter\n",
    "energy_bins = np.logspace(-3,7,50)\n",
    "energy_filter = openmc.EnergyFilter(energy_bins)\n",
    "\n",
    "#Creating a particle filter\n",
    "particle_filter = openmc.ParticleFilter(['neutron','photon'])\n",
    "\n",
    "\n",
    "# XY-MESH\n",
    "#Creating mesh and mesh filter\n",
    "mesh_xy = openmc.RegularMesh(mesh_id=1)\n",
    "mesh_xy.dimension = [200,200,1]\n",
    "mesh_xy.lower_left = [-100,-100,-1.e50]\n",
    "mesh_xy.upper_right = [100,100,1.e50]\n",
    "\n",
    "mesh_filter_xy = openmc.MeshFilter(mesh_xy)\n",
    "\n",
    "#Creating mesh tally\n",
    "tally_xy = openmc.Tally(name='flux_xy',tally_id=1)\n",
    "tally_xy.filters = [mesh_filter_xy]#, particle_filter]\n",
    "tally_xy.scores = ['flux','fission','nu-fission']\n",
    "tallies_file.append(tally_xy)\n",
    "\n",
    "\n",
    "# XZ-MESH\n",
    "#Creating mesh and mesh filter\n",
    "mesh_xz = openmc.RegularMesh(mesh_id=2)\n",
    "mesh_xz.dimension = [200,1,200]\n",
    "mesh_xz.lower_left = [-100,-1.e50,-100]\n",
    "mesh_xz.upper_right = [100,1.e50,100]\n",
    "\n",
    "mesh_filter_xz = openmc.MeshFilter(mesh_xz)\n",
    "\n",
    "#Creating mesh tally\n",
    "tally_xz = openmc.Tally(name='flux_xz',tally_id=2)\n",
    "tally_xz.filters = [mesh_filter_xz]#, particle_filter]\n",
    "tally_xz.scores = ['flux','fission','nu-fission']\n",
    "tallies_file.append(tally_xz)\n",
    "\n",
    "\n",
    "# YZ-MESH\n",
    "#Creating mesh and mesh filter\n",
    "mesh_yz = openmc.RegularMesh(mesh_id=3)\n",
    "mesh_yz.dimension = [1,200,200]\n",
    "mesh_yz.lower_left = [-1.e50,-100,-100]\n",
    "mesh_yz.upper_right = [1.e50,100,100]\n",
    "\n",
    "mesh_filter_yz = openmc.MeshFilter(mesh_yz)\n",
    "\n",
    "#Creating mesh tally\n",
    "tally_yz = openmc.Tally(name='flux_yz',tally_id=3)\n",
    "tally_yz.filters = [mesh_filter_yz]#, particle_filter]\n",
    "tally_yz.scores = ['flux','fission','nu-fission']\n",
    "tallies_file.append(tally_yz)\n",
    "\n",
    "\n",
    "#Energy flux distribution tally\n",
    "tally_energy = openmc.Tally(tally_id=5, name='energy flux tally')\n",
    "tally_energy.filters = [energy_filter]#, particle_filter]\n",
    "tally_energy.scores = ['flux']\n",
    "tallies_file.append(tally_energy)"
   ]
  },
  {
   "cell_type": "markdown",
   "metadata": {},
   "source": [
    "Setting depletion chain and simulation settings:"
   ]
  },
  {
   "cell_type": "code",
   "execution_count": 10,
   "metadata": {},
   "outputs": [],
   "source": [
    "chain_file = '/Users/Julian/Desktop/FYS4580/FYS4580/OpenMC_Project/chain_casl.xml';\n",
    "\n",
    "power = 1.2e6\n",
    "days = 24*60*60\n",
    "\n",
    "timesteps = [1.0*days, 1.0*days, 1.0*days, 1.0*days, 1.0*days,\n",
    "             1.0*days, 1.0*days, 1.0*days, 1.0*days, 1.0*days,\n",
    "             1.0*days, 1.0*days, 1.0*days, 1.0*days, 1.0*days]"
   ]
  },
  {
   "cell_type": "markdown",
   "metadata": {},
   "source": [
    "Adding the settings:"
   ]
  },
  {
   "cell_type": "code",
   "execution_count": 11,
   "metadata": {},
   "outputs": [],
   "source": [
    "settings = openmc.Settings()\n",
    "settings.batches = batches\n",
    "settings.inactive = inactive\n",
    "settings.particles = particles\n",
    "settings.run_mode = 'eigenvalue'\n",
    "#settings.photon_transport = True\n",
    "\n",
    "settings.source = openmc.Source(space=openmc.stats.Box([-50.0,-50.0,-50.0],\n",
    "                                                      [50.0,50.0,50.0]))"
   ]
  },
  {
   "cell_type": "markdown",
   "metadata": {},
   "source": [
    "Exporting to xml-files:"
   ]
  },
  {
   "cell_type": "code",
   "execution_count": 12,
   "metadata": {},
   "outputs": [],
   "source": [
    "settings.export_to_xml()\n",
    "geometry.export_to_xml()\n",
    "tallies_file.export_to_xml()"
   ]
  },
  {
   "cell_type": "markdown",
   "metadata": {},
   "source": [
    "Plotting the geometry:"
   ]
  },
  {
   "cell_type": "code",
   "execution_count": 13,
   "metadata": {},
   "outputs": [
    {
     "name": "stdout",
     "output_type": "stream",
     "text": [
      "                                %%%%%%%%%%%%%%%\n",
      "                           %%%%%%%%%%%%%%%%%%%%%%%%\n",
      "                        %%%%%%%%%%%%%%%%%%%%%%%%%%%%%%\n",
      "                      %%%%%%%%%%%%%%%%%%%%%%%%%%%%%%%%%%\n",
      "                    %%%%%%%%%%%%%%%%%%%%%%%%%%%%%%%%%%%%%%\n",
      "                   %%%%%%%%%%%%%%%%%%%%%%%%%%%%%%%%%%%%%%%%\n",
      "                                    %%%%%%%%%%%%%%%%%%%%%%%%\n",
      "                                     %%%%%%%%%%%%%%%%%%%%%%%%\n",
      "                 ###############      %%%%%%%%%%%%%%%%%%%%%%%%\n",
      "                ##################     %%%%%%%%%%%%%%%%%%%%%%%\n",
      "                ###################     %%%%%%%%%%%%%%%%%%%%%%%\n",
      "                ####################     %%%%%%%%%%%%%%%%%%%%%%\n",
      "                #####################     %%%%%%%%%%%%%%%%%%%%%\n",
      "                ######################     %%%%%%%%%%%%%%%%%%%%\n",
      "                #######################     %%%%%%%%%%%%%%%%%%\n",
      "                 #######################     %%%%%%%%%%%%%%%%%\n",
      "                 ######################     %%%%%%%%%%%%%%%%%\n",
      "                  ####################     %%%%%%%%%%%%%%%%%\n",
      "                    #################     %%%%%%%%%%%%%%%%%\n",
      "                     ###############     %%%%%%%%%%%%%%%%\n",
      "                       ############     %%%%%%%%%%%%%%%\n",
      "                          ########     %%%%%%%%%%%%%%\n",
      "                                      %%%%%%%%%%%\n",
      "\n",
      "                   | The OpenMC Monte Carlo Code\n",
      "         Copyright | 2011-2019 MIT and OpenMC contributors\n",
      "           License | http://openmc.readthedocs.io/en/latest/license.html\n",
      "           Version | 0.11.0\n",
      "          Git SHA1 | 7a4c5b47342b175b3f113c6a6e28db10e0bc8ae7\n",
      "         Date/Time | 2019-10-27 10:02:08\n",
      "\n",
      " Reading settings XML file...\n",
      " Reading cross sections XML file...\n",
      " Reading materials XML file...\n",
      " Reading geometry XML file...\n",
      " Reading Th230 from /Users/Julian/nndc_hdf5/Th230.h5\n",
      " Reading Th232 from /Users/Julian/nndc_hdf5/Th232.h5\n",
      " Reading Pu239 from /Users/Julian/nndc_hdf5/Pu239.h5\n",
      " Reading Pu240 from /Users/Julian/nndc_hdf5/Pu240.h5\n",
      " Reading O16 from /Users/Julian/nndc_hdf5/O16.h5\n",
      " Reading O17 from /Users/Julian/nndc_hdf5/O17.h5\n",
      " Reading He3 from /Users/Julian/nndc_hdf5/He3.h5\n",
      " Reading He4 from /Users/Julian/nndc_hdf5/He4.h5\n",
      " Reading Sn112 from /Users/Julian/nndc_hdf5/Sn112.h5\n",
      " Reading Sn114 from /Users/Julian/nndc_hdf5/Sn114.h5\n",
      " Reading Sn115 from /Users/Julian/nndc_hdf5/Sn115.h5\n",
      " Reading Sn116 from /Users/Julian/nndc_hdf5/Sn116.h5\n",
      " Reading Sn117 from /Users/Julian/nndc_hdf5/Sn117.h5\n",
      " Reading Sn118 from /Users/Julian/nndc_hdf5/Sn118.h5\n",
      " Reading Sn119 from /Users/Julian/nndc_hdf5/Sn119.h5\n",
      " Reading Sn120 from /Users/Julian/nndc_hdf5/Sn120.h5\n",
      " Reading Sn122 from /Users/Julian/nndc_hdf5/Sn122.h5\n",
      " Reading Sn124 from /Users/Julian/nndc_hdf5/Sn124.h5\n",
      " Reading Fe54 from /Users/Julian/nndc_hdf5/Fe54.h5\n",
      " Reading Fe56 from /Users/Julian/nndc_hdf5/Fe56.h5\n",
      " Reading Fe57 from /Users/Julian/nndc_hdf5/Fe57.h5\n",
      " Reading Fe58 from /Users/Julian/nndc_hdf5/Fe58.h5\n",
      " Reading Cr50 from /Users/Julian/nndc_hdf5/Cr50.h5\n",
      " Reading Cr52 from /Users/Julian/nndc_hdf5/Cr52.h5\n",
      " Reading Cr53 from /Users/Julian/nndc_hdf5/Cr53.h5\n",
      " Reading Cr54 from /Users/Julian/nndc_hdf5/Cr54.h5\n",
      " Reading Zr90 from /Users/Julian/nndc_hdf5/Zr90.h5\n",
      " Reading Zr91 from /Users/Julian/nndc_hdf5/Zr91.h5\n",
      " Reading Zr92 from /Users/Julian/nndc_hdf5/Zr92.h5\n",
      " Reading Zr94 from /Users/Julian/nndc_hdf5/Zr94.h5\n",
      " Reading Zr96 from /Users/Julian/nndc_hdf5/Zr96.h5\n",
      " Reading B10 from /Users/Julian/nndc_hdf5/B10.h5\n",
      " Reading B11 from /Users/Julian/nndc_hdf5/B11.h5\n",
      " Reading H1 from /Users/Julian/nndc_hdf5/H1.h5\n",
      " Reading H2 from /Users/Julian/nndc_hdf5/H2.h5\n",
      " Reading Ni58 from /Users/Julian/nndc_hdf5/Ni58.h5\n",
      " Reading Mn55 from /Users/Julian/nndc_hdf5/Mn55.h5\n",
      " Reading Ni60 from /Users/Julian/nndc_hdf5/Ni60.h5\n",
      " Reading C0 from /Users/Julian/nndc_hdf5/C0.h5\n",
      " Reading Cu63 from /Users/Julian/nndc_hdf5/Cu63.h5\n",
      " Reading U234 from /Users/Julian/nndc_hdf5/U234.h5\n",
      " Reading U235 from /Users/Julian/nndc_hdf5/U235.h5\n",
      " Reading U238 from /Users/Julian/nndc_hdf5/U238.h5\n",
      " Reading U236 from /Users/Julian/nndc_hdf5/U236.h5\n",
      " Reading c_H_in_H2O from /Users/Julian/nndc_hdf5/c_H_in_H2O.h5\n",
      " Reading c_D_in_D2O from /Users/Julian/nndc_hdf5/c_D_in_D2O.h5\n",
      " Maximum neutron transport energy: 20000000.000000 eV for Th230\n",
      " Minimum neutron data temperature: 294.000000 K\n",
      " Maximum neutron data temperature: 294.000000 K\n",
      " Reading tallies XML file...\n",
      " Writing summary.h5 file...\n",
      " Initializing source particles...\n",
      "\n",
      " ====================>     K EIGENVALUE SIMULATION     <====================\n",
      "\n",
      "  Bat./Gen.      k            Average k\n",
      "  =========   ========   ====================\n",
      "        1/1    1.02502\n",
      "        2/1    1.06320\n",
      "        3/1    1.01981\n",
      "        4/1    1.00331\n",
      "        5/1    1.03956\n",
      "        6/1    1.02127\n",
      "        7/1    1.04117\n",
      "        8/1    0.98492\n",
      "        9/1    0.95762\n",
      "       10/1    0.97405    0.96583 +/- 0.00822\n",
      "       11/1    1.00050    0.97739 +/- 0.01249\n",
      "       12/1    0.99393    0.98152 +/- 0.00975\n",
      "       13/1    1.00496    0.98621 +/- 0.00889\n",
      "       14/1    0.99507    0.98769 +/- 0.00741\n",
      "       15/1    1.05915    0.99790 +/- 0.01198\n",
      "       16/1    1.06532    1.00632 +/- 0.01336\n",
      "       17/1    1.00254    1.00590 +/- 0.01179\n",
      "       18/1    1.01123    1.00644 +/- 0.01056\n",
      "       19/1    1.09031    1.01406 +/- 0.01222\n",
      "       20/1    0.96515    1.00999 +/- 0.01188\n",
      "       21/1    1.08348    1.01564 +/- 0.01230\n",
      "       22/1    1.07721    1.02004 +/- 0.01221\n",
      "       23/1    0.89030    1.01139 +/- 0.01428\n",
      "       24/1    1.02762    1.01240 +/- 0.01340\n",
      "       25/1    1.04382    1.01425 +/- 0.01272\n",
      "       26/1    1.03057    1.01516 +/- 0.01203\n",
      "       27/1    0.96708    1.01263 +/- 0.01166\n",
      "       28/1    1.05304    1.01465 +/- 0.01124\n",
      "       29/1    0.99620    1.01377 +/- 0.01073\n",
      "       30/1    0.96068    1.01136 +/- 0.01051\n",
      "       31/1    1.01003    1.01130 +/- 0.01004\n",
      "       32/1    0.98077    1.01003 +/- 0.00970\n",
      "       33/1    1.00309    1.00975 +/- 0.00931\n",
      "       34/1    1.03318    1.01065 +/- 0.00899\n",
      "       35/1    0.95524    1.00860 +/- 0.00889\n",
      "       36/1    1.04649    1.00995 +/- 0.00867\n",
      "       37/1    1.02381    1.01043 +/- 0.00838\n",
      "       38/1    1.06083    1.01211 +/- 0.00827\n",
      "       39/1    1.00339    1.01183 +/- 0.00800\n",
      "       40/1    0.95395    1.01002 +/- 0.00796\n",
      "       41/1    0.99860    1.00967 +/- 0.00772\n",
      "       42/1    0.92138    1.00708 +/- 0.00793\n",
      "       43/1    1.03853    1.00798 +/- 0.00775\n",
      "       44/1    0.95438    1.00649 +/- 0.00768\n",
      "       45/1    0.97980    1.00576 +/- 0.00750\n",
      "       46/1    1.00877    1.00584 +/- 0.00730\n",
      "       47/1    1.09108    1.00803 +/- 0.00744\n",
      "       48/1    0.98157    1.00737 +/- 0.00728\n",
      "       49/1    0.97479    1.00657 +/- 0.00715\n",
      "       50/1    0.97579    1.00584 +/- 0.00701\n",
      "       51/1    1.07683    1.00749 +/- 0.00704\n",
      "       52/1    0.98633    1.00701 +/- 0.00690\n",
      "       53/1    0.99618    1.00677 +/- 0.00675\n",
      "       54/1    1.01782    1.00701 +/- 0.00660\n",
      "       55/1    0.98857    1.00662 +/- 0.00647\n",
      "       56/1    1.00510    1.00659 +/- 0.00634\n",
      "       57/1    0.99433    1.00634 +/- 0.00621\n",
      "       58/1    1.00785    1.00637 +/- 0.00609\n",
      "       59/1    1.01004    1.00644 +/- 0.00597\n",
      "       60/1    1.02619    1.00682 +/- 0.00586\n",
      "       61/1    0.95967    1.00593 +/- 0.00582\n",
      "       62/1    1.01689    1.00613 +/- 0.00571\n",
      "       63/1    0.98372    1.00572 +/- 0.00562\n",
      "       64/1    0.93728    1.00450 +/- 0.00566\n",
      "       65/1    1.07504    1.00574 +/- 0.00569\n",
      "       66/1    0.98711    1.00542 +/- 0.00560\n",
      "       67/1    0.97886    1.00497 +/- 0.00552\n",
      "       68/1    1.05154    1.00574 +/- 0.00549\n",
      "       69/1    1.03386    1.00620 +/- 0.00542\n",
      "       70/1    1.05339    1.00697 +/- 0.00538\n",
      "       71/1    1.01589    1.00711 +/- 0.00530\n",
      "       72/1    0.96758    1.00649 +/- 0.00525\n",
      "       73/1    0.95196    1.00565 +/- 0.00524\n",
      "       74/1    0.95165    1.00483 +/- 0.00522\n",
      "       75/1    1.01230    1.00494 +/- 0.00514\n",
      "       76/1    1.03062    1.00532 +/- 0.00508\n",
      "       77/1    0.96731    1.00477 +/- 0.00504\n",
      "       78/1    0.97028    1.00428 +/- 0.00499\n",
      "       79/1    1.00045    1.00422 +/- 0.00492\n",
      "       80/1    0.98624    1.00397 +/- 0.00486\n",
      "       81/1    0.99838    1.00390 +/- 0.00479\n",
      "       82/1    1.05283    1.00456 +/- 0.00477\n",
      "       83/1    1.01254    1.00467 +/- 0.00471\n",
      "       84/1    1.00097    1.00462 +/- 0.00465\n",
      "       85/1    1.01117    1.00470 +/- 0.00459\n",
      "       86/1    1.00534    1.00471 +/- 0.00453\n",
      "       87/1    0.94928    1.00401 +/- 0.00452\n",
      "       88/1    1.05712    1.00467 +/- 0.00452\n",
      "       89/1    1.05232    1.00526 +/- 0.00450\n",
      "       90/1    0.99564    1.00514 +/- 0.00445\n",
      "       91/1    1.06659    1.00588 +/- 0.00445\n",
      "       92/1    0.94233    1.00513 +/- 0.00446\n",
      "       93/1    1.06386    1.00582 +/- 0.00447\n",
      "       94/1    0.95540    1.00523 +/- 0.00445\n",
      "       95/1    0.98160    1.00496 +/- 0.00441\n",
      "       96/1    1.02546    1.00519 +/- 0.00437\n",
      "       97/1    0.94524    1.00452 +/- 0.00437\n",
      "       98/1    1.04568    1.00498 +/- 0.00434\n",
      "       99/1    0.99466    1.00486 +/- 0.00430\n",
      "      100/1    1.01542    1.00498 +/- 0.00425\n",
      " Creating state point statepoint.100.h5...\n",
      "\n",
      " =======================>     TIMING STATISTICS     <=======================\n",
      "\n",
      " Total time for initialization     = 8.9102e+00 seconds\n",
      "   Reading cross sections          = 8.8325e+00 seconds\n",
      " Total time in simulation          = 5.6635e+01 seconds\n",
      "   Time in transport only          = 5.6454e+01 seconds\n",
      "   Time in inactive batches        = 2.1345e+00 seconds\n",
      "   Time in active batches          = 5.4501e+01 seconds\n",
      "   Time synchronizing fission bank = 6.4249e-03 seconds\n",
      "     Sampling source sites         = 5.6833e-03 seconds\n",
      "     SEND/RECV source sites        = 6.5256e-04 seconds\n",
      "   Time accumulating tallies       = 1.3509e-01 seconds\n",
      " Total time for finalization       = 9.1746e-01 seconds\n",
      " Total time elapsed                = 6.6477e+01 seconds\n",
      " Calculation Rate (inactive)       = 3747.97 particles/second\n",
      " Calculation Rate (active)         = 1688.05 particles/second\n",
      "\n",
      " ============================>     RESULTS     <============================\n",
      "\n",
      " k-effective (Collision)     = 1.00367 +/- 0.00357\n",
      " k-effective (Track-length)  = 1.00498 +/- 0.00425\n",
      " k-effective (Absorption)    = 1.00526 +/- 0.00325\n",
      " Combined k-effective        = 1.00461 +/- 0.00293\n",
      " Leakage Fraction            = 0.02443 +/- 0.00059\n",
      "\n"
     ]
    }
   ],
   "source": [
    "p1 = openmc.Plot()\n",
    "p1.filename = 'materials-xy'\n",
    "p1.origin = [0, 0, 0]\n",
    "p1.basis = 'xy'\n",
    "p1.width = [200.0, 200.0]\n",
    "p1.pixels = [3000, 3000]\n",
    "p1.color_by = 'material'\n",
    "p1.colors = {steel: 'lightsteelblue', fuel_material: 'magenta', shielding: 'black',\n",
    "            clad: 'burlywood', helium: 'limegreen', uo2_2: 'yellow', heavy_water: 'teal',\n",
    "            cold_water: 'lightskyblue', hot_water: 'grey', borated_water: 'blue', norm_water: 'cyan'}\n",
    "\n",
    "\n",
    "\n",
    "\n",
    "p2 = openmc.Plot()\n",
    "p2.filename = 'materials-xz'\n",
    "p2.origin = [0, 0, 0]\n",
    "p2.basis = 'xz'\n",
    "p2.width = [200.0, 200.0]\n",
    "p2.pixels = [3000, 3000]\n",
    "p2.color_by = 'material'\n",
    "p2.colors = {steel: 'lightsteelblue', fuel_material: 'magenta', shielding: 'black',\n",
    "            clad: 'burlywood', helium: 'limegreen', uo2_2: 'yellow', heavy_water: 'teal',\n",
    "            cold_water: 'lightskyblue', hot_water: 'grey', borated_water: 'blue', norm_water: 'cyan'}\n",
    "\n",
    "\n",
    "\n",
    "p3 = openmc.Plot()\n",
    "p3.filename = 'materials-yz'\n",
    "p3.origin = [0, 0, 0]\n",
    "p3.basis = 'yz'\n",
    "p3.width = [200.0, 200.0]\n",
    "p3.pixels = [3000, 3000]\n",
    "p3.color_by = 'material'\n",
    "p3.colors = {steel: 'lightsteelblue', fuel_material: 'magenta', shielding: 'black',\n",
    "            clad: 'burlywood', helium: 'limegreen', uo2_2: 'yellow', heavy_water: 'teal',\n",
    "            cold_water: 'lightskyblue', hot_water: 'grey', borated_water: 'blue', norm_water: 'cyan'}\n",
    "\n",
    "\n",
    "\n",
    "#Make a collection of plots\n",
    "plot_files = openmc.Plots([p1,p2,p3])\n",
    "plot_files.export_to_xml()\n",
    "openmc.run()"
   ]
  },
  {
   "cell_type": "code",
   "execution_count": 14,
   "metadata": {},
   "outputs": [
    {
     "name": "stdout",
     "output_type": "stream",
     "text": [
      "                                %%%%%%%%%%%%%%%\n",
      "                           %%%%%%%%%%%%%%%%%%%%%%%%\n",
      "                        %%%%%%%%%%%%%%%%%%%%%%%%%%%%%%\n",
      "                      %%%%%%%%%%%%%%%%%%%%%%%%%%%%%%%%%%\n",
      "                    %%%%%%%%%%%%%%%%%%%%%%%%%%%%%%%%%%%%%%\n",
      "                   %%%%%%%%%%%%%%%%%%%%%%%%%%%%%%%%%%%%%%%%\n",
      "                                    %%%%%%%%%%%%%%%%%%%%%%%%\n",
      "                                     %%%%%%%%%%%%%%%%%%%%%%%%\n",
      "                 ###############      %%%%%%%%%%%%%%%%%%%%%%%%\n",
      "                ##################     %%%%%%%%%%%%%%%%%%%%%%%\n",
      "                ###################     %%%%%%%%%%%%%%%%%%%%%%%\n",
      "                ####################     %%%%%%%%%%%%%%%%%%%%%%\n",
      "                #####################     %%%%%%%%%%%%%%%%%%%%%\n",
      "                ######################     %%%%%%%%%%%%%%%%%%%%\n",
      "                #######################     %%%%%%%%%%%%%%%%%%\n",
      "                 #######################     %%%%%%%%%%%%%%%%%\n",
      "                 ######################     %%%%%%%%%%%%%%%%%\n",
      "                  ####################     %%%%%%%%%%%%%%%%%\n",
      "                    #################     %%%%%%%%%%%%%%%%%\n",
      "                     ###############     %%%%%%%%%%%%%%%%\n",
      "                       ############     %%%%%%%%%%%%%%%\n",
      "                          ########     %%%%%%%%%%%%%%\n",
      "                                      %%%%%%%%%%%\n",
      "\n",
      "                   | The OpenMC Monte Carlo Code\n",
      "         Copyright | 2011-2019 MIT and OpenMC contributors\n",
      "           License | http://openmc.readthedocs.io/en/latest/license.html\n",
      "           Version | 0.11.0\n",
      "          Git SHA1 | 7a4c5b47342b175b3f113c6a6e28db10e0bc8ae7\n",
      "         Date/Time | 2019-10-27 10:03:15\n",
      "\n",
      " Reading settings XML file...\n",
      " Reading cross sections XML file...\n",
      " Reading materials XML file...\n",
      " Reading geometry XML file...\n",
      " Reading tallies XML file...\n",
      " Reading plot XML file...\n",
      "\n",
      " =======================>     PLOTTING SUMMARY     <========================\n",
      "\n",
      "Plot ID: 1\n",
      "Plot file: materials-xy.ppm\n",
      "Universe depth: -1\n",
      "Plot Type: Slice\n",
      "Origin: 0 0 0\n",
      "Width: 200 200\n",
      "Coloring: Materials\n",
      "Basis: XY\n",
      "Pixels: 3000 3000 \n",
      "\n",
      "Plot ID: 2\n",
      "Plot file: materials-xz.ppm\n",
      "Universe depth: -1\n",
      "Plot Type: Slice\n",
      "Origin: 0 0 0\n",
      "Width: 200 200\n",
      "Coloring: Materials\n",
      "Basis: XZ\n",
      "Pixels: 3000 3000 \n",
      "\n",
      "Plot ID: 3\n",
      "Plot file: materials-yz.ppm\n",
      "Universe depth: -1\n",
      "Plot Type: Slice\n",
      "Origin: 0 0 0\n",
      "Width: 200 200\n",
      "Coloring: Materials\n",
      "Basis: YZ\n",
      "Pixels: 3000 3000 \n",
      "\n",
      " Processing plot 1: materials-xy.ppm...\n",
      " Processing plot 2: materials-xz.ppm...\n",
      " Processing plot 3: materials-yz.ppm...\n"
     ]
    }
   ],
   "source": [
    "openmc.plot_geometry()"
   ]
  },
  {
   "cell_type": "code",
   "execution_count": 15,
   "metadata": {},
   "outputs": [
    {
     "data": {
      "image/png": "[encoded data removed]",
      "text/plain": [
       "<IPython.core.display.Image object>"
      ]
     },
     "metadata": {},
     "output_type": "display_data"
    }
   ],
   "source": [
    "openmc.plot_inline(p1)"
   ]
  },
  {
   "cell_type": "code",
   "execution_count": 16,
   "metadata": {},
   "outputs": [],
   "source": [
    "#openmc.plot_inline(p2)"
   ]
  },
  {
   "cell_type": "code",
   "execution_count": 17,
   "metadata": {},
   "outputs": [],
   "source": [
    "#openmc.plot_inline(p3)"
   ]
  },
  {
   "cell_type": "markdown",
   "metadata": {},
   "source": [
    "Running depletion chain:"
   ]
  },
  {
   "cell_type": "code",
   "execution_count": 18,
   "metadata": {},
   "outputs": [
    {
     "name": "stdout",
     "output_type": "stream",
     "text": [
      "Running depletion...\n"
     ]
    }
   ],
   "source": [
    "\n",
    "print(\"Running depletion...\")\n",
    "op = openmc.deplete.Operator(geometry, settings, chain_file)\n",
    "\n",
    "# Perform simulation using the cecm algorithm\n",
    "openmc.deplete.CF4Integrator(op, timesteps, power).integrate()\n"
   ]
  },
  {
   "cell_type": "code",
   "execution_count": 19,
   "metadata": {},
   "outputs": [],
   "source": [
    "#openmc.run()"
   ]
  },
  {
   "cell_type": "markdown",
   "metadata": {},
   "source": [
    "Statepoint tally information:"
   ]
  },
  {
   "cell_type": "code",
   "execution_count": 20,
   "metadata": {},
   "outputs": [
    {
     "ename": "NameError",
     "evalue": "name 'flux_energy' is not defined",
     "output_type": "error",
     "traceback": [
      "\u001b[0;31m---------------------------------------------------------------------------\u001b[0m",
      "\u001b[0;31mNameError\u001b[0m                                 Traceback (most recent call last)",
      "\u001b[0;32m<ipython-input-20-1d5aa0586d80>\u001b[0m in \u001b[0;36m<module>\u001b[0;34m\u001b[0m\n\u001b[1;32m     37\u001b[0m \u001b[0;31m#Remember to turn on photon transport before using photon filter:\u001b[0m\u001b[0;34m\u001b[0m\u001b[0;34m\u001b[0m\u001b[0;34m\u001b[0m\u001b[0m\n\u001b[1;32m     38\u001b[0m '''\n\u001b[0;32m---> 39\u001b[0;31m gamma_flux_energy = flux_energy.get_slice(filters = [openmc.ParticleFilter],\n\u001b[0m\u001b[1;32m     40\u001b[0m                     filter_bins=[(('photon'),)], squeeze = True)\n\u001b[1;32m     41\u001b[0m '''\n",
      "\u001b[0;31mNameError\u001b[0m: name 'flux_energy' is not defined"
     ]
    }
   ],
   "source": [
    "'''sp = openmc.StatePoint('statepoint.100.h5')\n",
    "sp_tally = sp.get_tally(scores=['flux','fission','nu-fission'])\n",
    "\n",
    "\n",
    "flux = sp_tally.get_slice(scores=['flux'])\n",
    "neutron_flux = flux.get_slice(filters = [openmc.ParticleFilter], \n",
    "                              filter_bins=[(('neutron'),)], squeeze = True)\n",
    "\n",
    "\n",
    "fission = sp_tally.get_slice(scores=['fission'])\n",
    "neutron_fission = fission.get_slice(filters = [openmc.ParticleFilter],\n",
    "                                   filter_bins = [(('neutron'),)], squeeze = True)\n",
    "\n",
    "nu_fission = sp_tally.get_slice(scores=['nu-fission'])\n",
    "\n",
    "neutron_flux.std_dev.shape=(200,200)\n",
    "neutron_flux.mean.shape=(200,200)\n",
    "\n",
    "neutron_fission.std_dev.shape=(200,200)\n",
    "neutron_fission.mean.shape=(200,200)\n",
    "\n",
    "#fig = plt.subplot(121)\n",
    "#fig.imshow(neutron_flux.mean)\n",
    "#fig2 = plt.subplot(122)\n",
    "#fig2.imshow(neutron_fission.mean)\n",
    "#plt.show()\n",
    "\n",
    "\n",
    "\n",
    "tally_energy = sp.get_tally(name='energy flux tally')\n",
    "flux_energy = tally_energy.get_slice(scores=['flux'])\n",
    "\n",
    "neutron_flux_energy = flux_energy.get_slice(filters = [openmc.ParticleFilter],\n",
    "                    filter_bins=[(('neutron'),)], squeeze = True)\n",
    "\n",
    "\n",
    "#Remember to turn on photon transport before using photon filter:\n",
    "'''\n",
    "gamma_flux_energy = flux_energy.get_slice(filters = [openmc.ParticleFilter],\n",
    "                    filter_bins=[(('photon'),)], squeeze = True)\n",
    "'''\n",
    "\n",
    "\n",
    "bins = np.logspace(-3,7,49)\n",
    "plt.loglog(bins,neutron_flux_energy.mean[:,0,0])\n",
    "#plt.loglog(bins,gamma_flux_energy.mean[:,0,0])\n",
    "plt.xlabel('eV')\n",
    "plt.ylabel('Flux')\n",
    "plt.show()'''"
   ]
  },
  {
   "cell_type": "markdown",
   "metadata": {},
   "source": [
    "Source sites:\n"
   ]
  },
  {
   "cell_type": "code",
   "execution_count": null,
   "metadata": {},
   "outputs": [],
   "source": [
    "'''#Log-spaced energybins\n",
    "energy_bins = np.logspace(-1,7)\n",
    "\n",
    "#Calculate pdf for source energies\n",
    "probability, bin_edges = np.histogram(sp.source['E'], energy_bins, density=True)\n",
    "\n",
    "#Make sure integrating the PDF gives us unity\n",
    "print(sum(probability*np.diff(energy_bins)))\n",
    "\n",
    "\n",
    "\n",
    "plt.semilogx(energy_bins,neutron_flux.mean, drawstyle='steps')\n",
    "plt.show()\n",
    "'''\n",
    "\n",
    "'''\n",
    "#Plot source energy PDF:\n",
    "plt.semilogx(energy_bins[:-1], probability*np.diff(energy_bins), drawstyle='steps')\n",
    "plt.xlabel('Energy (eV)')\n",
    "plt.ylabel('Probability/eV')\n",
    "plt.show()\n",
    "'''"
   ]
  },
  {
   "cell_type": "markdown",
   "metadata": {},
   "source": [
    "Spatial distribution of the sites:"
   ]
  },
  {
   "cell_type": "code",
   "execution_count": null,
   "metadata": {},
   "outputs": [],
   "source": [
    "plt.quiver(sp.source['r']['x'], sp.source['r']['y'],\n",
    "           sp.source['u']['x'], sp.source['u']['y'],\n",
    "           np.log(sp.source['E']), cmap='jet', scale=20.0)\n",
    "plt.colorbar()\n",
    "plt.xlim((-100,100))\n",
    "plt.ylim((-100,100))\n",
    "plt.show()"
   ]
  },
  {
   "cell_type": "markdown",
   "metadata": {},
   "source": [
    "Tally data processing:"
   ]
  },
  {
   "cell_type": "code",
   "execution_count": null,
   "metadata": {},
   "outputs": [],
   "source": [
    "tally_info = sp.get_tally()\n",
    "\n",
    "# Get a pandas dataframe for the mesh tally data\n",
    "df = tally_info.get_pandas_dataframe(nuclides=False)\n",
    "\n",
    "# Set the Pandas float display settings\n",
    "pd.options.display.float_format = '{:.2e}'.format\n",
    "\n",
    "# Print the first twenty rows in the dataframe\n",
    "df.head(20)"
   ]
  },
  {
   "cell_type": "code",
   "execution_count": null,
   "metadata": {},
   "outputs": [],
   "source": []
  },
  {
   "cell_type": "code",
   "execution_count": null,
   "metadata": {},
   "outputs": [],
   "source": []
  },
  {
   "cell_type": "code",
   "execution_count": null,
   "metadata": {},
   "outputs": [],
   "source": []
  },
  {
   "cell_type": "code",
   "execution_count": null,
   "metadata": {},
   "outputs": [],
   "source": []
  },
  {
   "cell_type": "code",
   "execution_count": null,
   "metadata": {},
   "outputs": [],
   "source": []
  },
  {
   "cell_type": "code",
   "execution_count": null,
   "metadata": {},
   "outputs": [],
   "source": []
  },
  {
   "cell_type": "code",
   "execution_count": null,
   "metadata": {},
   "outputs": [],
   "source": []
  },
  {
   "cell_type": "code",
   "execution_count": null,
   "metadata": {},
   "outputs": [],
   "source": []
  },
  {
   "cell_type": "code",
   "execution_count": null,
   "metadata": {},
   "outputs": [],
   "source": []
  },
  {
   "cell_type": "code",
   "execution_count": null,
   "metadata": {},
   "outputs": [],
   "source": []
  },
  {
   "cell_type": "code",
   "execution_count": null,
   "metadata": {},
   "outputs": [],
   "source": []
  },
  {
   "cell_type": "code",
   "execution_count": null,
   "metadata": {},
   "outputs": [],
   "source": []
  },
  {
   "cell_type": "code",
   "execution_count": null,
   "metadata": {},
   "outputs": [],
   "source": []
  },
  {
   "cell_type": "code",
   "execution_count": null,
   "metadata": {},
   "outputs": [],
   "source": []
  },
  {
   "cell_type": "code",
   "execution_count": null,
   "metadata": {},
   "outputs": [],
   "source": []
  },
  {
   "cell_type": "code",
   "execution_count": null,
   "metadata": {},
   "outputs": [],
   "source": []
  },
  {
   "cell_type": "code",
   "execution_count": null,
   "metadata": {},
   "outputs": [],
   "source": []
  },
  {
   "cell_type": "code",
   "execution_count": null,
   "metadata": {},
   "outputs": [],
   "source": []
  },
  {
   "cell_type": "code",
   "execution_count": null,
   "metadata": {},
   "outputs": [],
   "source": []
  },
  {
   "cell_type": "code",
   "execution_count": null,
   "metadata": {},
   "outputs": [],
   "source": []
  },
  {
   "cell_type": "code",
   "execution_count": null,
   "metadata": {},
   "outputs": [],
   "source": []
  },
  {
   "cell_type": "code",
   "execution_count": null,
   "metadata": {},
   "outputs": [],
   "source": []
  },
  {
   "cell_type": "code",
   "execution_count": null,
   "metadata": {},
   "outputs": [],
   "source": []
  },
  {
   "cell_type": "code",
   "execution_count": null,
   "metadata": {},
   "outputs": [],
   "source": []
  },
  {
   "cell_type": "code",
   "execution_count": null,
   "metadata": {},
   "outputs": [],
   "source": []
  },
  {
   "cell_type": "code",
   "execution_count": null,
   "metadata": {},
   "outputs": [],
   "source": []
  },
  {
   "cell_type": "code",
   "execution_count": null,
   "metadata": {},
   "outputs": [],
   "source": []
  },
  {
   "cell_type": "code",
   "execution_count": null,
   "metadata": {},
   "outputs": [],
   "source": []
  },
  {
   "cell_type": "code",
   "execution_count": null,
   "metadata": {},
   "outputs": [],
   "source": []
  },
  {
   "cell_type": "code",
   "execution_count": null,
   "metadata": {},
   "outputs": [],
   "source": []
  },
  {
   "cell_type": "code",
   "execution_count": null,
   "metadata": {},
   "outputs": [],
   "source": []
  },
  {
   "cell_type": "code",
   "execution_count": null,
   "metadata": {},
   "outputs": [],
   "source": []
  },
  {
   "cell_type": "code",
   "execution_count": null,
   "metadata": {},
   "outputs": [],
   "source": []
  },
  {
   "cell_type": "code",
   "execution_count": null,
   "metadata": {},
   "outputs": [],
   "source": []
  },
  {
   "cell_type": "code",
   "execution_count": null,
   "metadata": {},
   "outputs": [],
   "source": []
  },
  {
   "cell_type": "code",
   "execution_count": null,
   "metadata": {},
   "outputs": [],
   "source": []
  },
  {
   "cell_type": "code",
   "execution_count": null,
   "metadata": {},
   "outputs": [],
   "source": []
  },
  {
   "cell_type": "code",
   "execution_count": null,
   "metadata": {},
   "outputs": [],
   "source": []
  },
  {
   "cell_type": "code",
   "execution_count": null,
   "metadata": {},
   "outputs": [],
   "source": []
  },
  {
   "cell_type": "code",
   "execution_count": null,
   "metadata": {},
   "outputs": [],
   "source": []
  },
  {
   "cell_type": "code",
   "execution_count": null,
   "metadata": {},
   "outputs": [],
   "source": []
  },
  {
   "cell_type": "code",
   "execution_count": null,
   "metadata": {},
   "outputs": [],
   "source": []
  },
  {
   "cell_type": "code",
   "execution_count": null,
   "metadata": {},
   "outputs": [],
   "source": []
  },
  {
   "cell_type": "code",
   "execution_count": null,
   "metadata": {},
   "outputs": [],
   "source": []
  },
  {
   "cell_type": "code",
   "execution_count": null,
   "metadata": {},
   "outputs": [],
   "source": []
  },
  {
   "cell_type": "code",
   "execution_count": null,
   "metadata": {},
   "outputs": [],
   "source": []
  },
  {
   "cell_type": "code",
   "execution_count": null,
   "metadata": {},
   "outputs": [],
   "source": []
  },
  {
   "cell_type": "code",
   "execution_count": null,
   "metadata": {},
   "outputs": [],
   "source": []
  },
  {
   "cell_type": "code",
   "execution_count": null,
   "metadata": {},
   "outputs": [],
   "source": []
  },
  {
   "cell_type": "code",
   "execution_count": null,
   "metadata": {},
   "outputs": [],
   "source": []
  },
  {
   "cell_type": "code",
   "execution_count": null,
   "metadata": {},
   "outputs": [],
   "source": []
  },
  {
   "cell_type": "code",
   "execution_count": null,
   "metadata": {},
   "outputs": [],
   "source": []
  },
  {
   "cell_type": "code",
   "execution_count": null,
   "metadata": {},
   "outputs": [],
   "source": []
  },
  {
   "cell_type": "code",
   "execution_count": null,
   "metadata": {},
   "outputs": [],
   "source": []
  },
  {
   "cell_type": "code",
   "execution_count": null,
   "metadata": {},
   "outputs": [],
   "source": []
  },
  {
   "cell_type": "code",
   "execution_count": null,
   "metadata": {},
   "outputs": [],
   "source": []
  },
  {
   "cell_type": "code",
   "execution_count": null,
   "metadata": {},
   "outputs": [],
   "source": []
  },
  {
   "cell_type": "code",
   "execution_count": null,
   "metadata": {},
   "outputs": [],
   "source": []
  },
  {
   "cell_type": "code",
   "execution_count": null,
   "metadata": {},
   "outputs": [],
   "source": []
  },
  {
   "cell_type": "code",
   "execution_count": null,
   "metadata": {},
   "outputs": [],
   "source": []
  },
  {
   "cell_type": "code",
   "execution_count": null,
   "metadata": {},
   "outputs": [],
   "source": []
  },
  {
   "cell_type": "code",
   "execution_count": null,
   "metadata": {},
   "outputs": [],
   "source": []
  },
  {
   "cell_type": "code",
   "execution_count": null,
   "metadata": {},
   "outputs": [],
   "source": []
  },
  {
   "cell_type": "code",
   "execution_count": null,
   "metadata": {},
   "outputs": [],
   "source": []
  },
  {
   "cell_type": "code",
   "execution_count": null,
   "metadata": {},
   "outputs": [],
   "source": []
  },
  {
   "cell_type": "code",
   "execution_count": null,
   "metadata": {},
   "outputs": [],
   "source": []
  },
  {
   "cell_type": "code",
   "execution_count": null,
   "metadata": {},
   "outputs": [],
   "source": []
  },
  {
   "cell_type": "code",
   "execution_count": null,
   "metadata": {},
   "outputs": [],
   "source": []
  },
  {
   "cell_type": "code",
   "execution_count": null,
   "metadata": {},
   "outputs": [],
   "source": []
  },
  {
   "cell_type": "code",
   "execution_count": null,
   "metadata": {},
   "outputs": [],
   "source": []
  },
  {
   "cell_type": "code",
   "execution_count": null,
   "metadata": {},
   "outputs": [],
   "source": []
  },
  {
   "cell_type": "code",
   "execution_count": null,
   "metadata": {},
   "outputs": [],
   "source": []
  },
  {
   "cell_type": "code",
   "execution_count": null,
   "metadata": {},
   "outputs": [],
   "source": []
  },
  {
   "cell_type": "code",
   "execution_count": null,
   "metadata": {},
   "outputs": [],
   "source": []
  },
  {
   "cell_type": "code",
   "execution_count": null,
   "metadata": {},
   "outputs": [],
   "source": []
  },
  {
   "cell_type": "code",
   "execution_count": null,
   "metadata": {},
   "outputs": [],
   "source": []
  },
  {
   "cell_type": "code",
   "execution_count": null,
   "metadata": {},
   "outputs": [],
   "source": []
  },
  {
   "cell_type": "code",
   "execution_count": null,
   "metadata": {},
   "outputs": [],
   "source": []
  },
  {
   "cell_type": "code",
   "execution_count": null,
   "metadata": {},
   "outputs": [],
   "source": []
  },
  {
   "cell_type": "code",
   "execution_count": null,
   "metadata": {},
   "outputs": [],
   "source": []
  },
  {
   "cell_type": "code",
   "execution_count": null,
   "metadata": {},
   "outputs": [],
   "source": []
  },
  {
   "cell_type": "code",
   "execution_count": null,
   "metadata": {},
   "outputs": [],
   "source": []
  },
  {
   "cell_type": "code",
   "execution_count": null,
   "metadata": {},
   "outputs": [],
   "source": []
  },
  {
   "cell_type": "code",
   "execution_count": null,
   "metadata": {},
   "outputs": [],
   "source": []
  },
  {
   "cell_type": "code",
   "execution_count": null,
   "metadata": {},
   "outputs": [],
   "source": []
  },
  {
   "cell_type": "code",
   "execution_count": null,
   "metadata": {},
   "outputs": [],
   "source": []
  },
  {
   "cell_type": "code",
   "execution_count": null,
   "metadata": {},
   "outputs": [],
   "source": []
  },
  {
   "cell_type": "code",
   "execution_count": null,
   "metadata": {},
   "outputs": [],
   "source": []
  },
  {
   "cell_type": "code",
   "execution_count": null,
   "metadata": {},
   "outputs": [],
   "source": []
  },
  {
   "cell_type": "code",
   "execution_count": null,
   "metadata": {},
   "outputs": [],
   "source": []
  },
  {
   "cell_type": "code",
   "execution_count": null,
   "metadata": {},
   "outputs": [],
   "source": []
  },
  {
   "cell_type": "code",
   "execution_count": null,
   "metadata": {},
   "outputs": [],
   "source": []
  },
  {
   "cell_type": "code",
   "execution_count": null,
   "metadata": {},
   "outputs": [],
   "source": []
  },
  {
   "cell_type": "code",
   "execution_count": null,
   "metadata": {},
   "outputs": [],
   "source": []
  },
  {
   "cell_type": "code",
   "execution_count": null,
   "metadata": {},
   "outputs": [],
   "source": []
  },
  {
   "cell_type": "code",
   "execution_count": null,
   "metadata": {},
   "outputs": [],
   "source": []
  },
  {
   "cell_type": "code",
   "execution_count": null,
   "metadata": {},
   "outputs": [],
   "source": []
  },
  {
   "cell_type": "code",
   "execution_count": null,
   "metadata": {},
   "outputs": [],
   "source": []
  },
  {
   "cell_type": "code",
   "execution_count": null,
   "metadata": {},
   "outputs": [],
   "source": []
  },
  {
   "cell_type": "code",
   "execution_count": null,
   "metadata": {},
   "outputs": [],
   "source": []
  },
  {
   "cell_type": "code",
   "execution_count": null,
   "metadata": {},
   "outputs": [],
   "source": []
  },
  {
   "cell_type": "code",
   "execution_count": null,
   "metadata": {},
   "outputs": [],
   "source": []
  },
  {
   "cell_type": "code",
   "execution_count": null,
   "metadata": {},
   "outputs": [],
   "source": []
  },
  {
   "cell_type": "code",
   "execution_count": null,
   "metadata": {},
   "outputs": [],
   "source": []
  },
  {
   "cell_type": "code",
   "execution_count": null,
   "metadata": {},
   "outputs": [],
   "source": []
  },
  {
   "cell_type": "code",
   "execution_count": null,
   "metadata": {},
   "outputs": [],
   "source": []
  },
  {
   "cell_type": "code",
   "execution_count": null,
   "metadata": {},
   "outputs": [],
   "source": []
  },
  {
   "cell_type": "code",
   "execution_count": null,
   "metadata": {},
   "outputs": [],
   "source": []
  },
  {
   "cell_type": "code",
   "execution_count": null,
   "metadata": {},
   "outputs": [],
   "source": []
  },
  {
   "cell_type": "code",
   "execution_count": null,
   "metadata": {},
   "outputs": [],
   "source": []
  },
  {
   "cell_type": "code",
   "execution_count": null,
   "metadata": {},
   "outputs": [],
   "source": []
  },
  {
   "cell_type": "code",
   "execution_count": null,
   "metadata": {},
   "outputs": [],
   "source": []
  },
  {
   "cell_type": "code",
   "execution_count": null,
   "metadata": {},
   "outputs": [],
   "source": []
  },
  {
   "cell_type": "code",
   "execution_count": null,
   "metadata": {},
   "outputs": [],
   "source": []
  },
  {
   "cell_type": "code",
   "execution_count": null,
   "metadata": {},
   "outputs": [],
   "source": []
  },
  {
   "cell_type": "code",
   "execution_count": null,
   "metadata": {},
   "outputs": [],
   "source": []
  },
  {
   "cell_type": "code",
   "execution_count": null,
   "metadata": {},
   "outputs": [],
   "source": []
  },
  {
   "cell_type": "code",
   "execution_count": null,
   "metadata": {},
   "outputs": [],
   "source": []
  },
  {
   "cell_type": "code",
   "execution_count": null,
   "metadata": {},
   "outputs": [],
   "source": []
  },
  {
   "cell_type": "code",
   "execution_count": null,
   "metadata": {},
   "outputs": [],
   "source": []
  },
  {
   "cell_type": "code",
   "execution_count": null,
   "metadata": {},
   "outputs": [],
   "source": []
  },
  {
   "cell_type": "code",
   "execution_count": null,
   "metadata": {},
   "outputs": [],
   "source": []
  },
  {
   "cell_type": "code",
   "execution_count": null,
   "metadata": {},
   "outputs": [],
   "source": []
  },
  {
   "cell_type": "code",
   "execution_count": null,
   "metadata": {},
   "outputs": [],
   "source": []
  },
  {
   "cell_type": "code",
   "execution_count": null,
   "metadata": {},
   "outputs": [],
   "source": []
  },
  {
   "cell_type": "code",
   "execution_count": null,
   "metadata": {},
   "outputs": [],
   "source": []
  }
 ],
 "metadata": {
  "kernelspec": {
   "display_name": "Python 3",
   "language": "python",
   "name": "python3"
  },
  "language_info": {
   "codemirror_mode": {
    "name": "ipython",
    "version": 3
   },
   "file_extension": ".py",
   "mimetype": "text/x-python",
   "name": "python",
   "nbconvert_exporter": "python",
   "pygments_lexer": "ipython3",
   "version": "3.7.3"
  }
 },
 "nbformat": 4,
 "nbformat_minor": 4
}
