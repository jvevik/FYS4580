{
 "cells": [
  {
   "cell_type": "code",
   "execution_count": 2,
   "metadata": {},
   "outputs": [],
   "source": [
    "%matplotlib inline\n",
    "import matplotlib.pyplot as plt\n",
    "import numpy as np\n",
    "import openmc\n",
    "import openmc.deplete\n",
    "import pandas as pd\n",
    "from os import listdir\n",
    "from os.path import isfile, join\n",
    "#OPENMC_CROSS_SECTIONS = '/Users/Julian/nndc_hdf5/cross_sections.xml'"
   ]
  },
  {
   "cell_type": "code",
   "execution_count": 3,
   "metadata": {},
   "outputs": [],
   "source": [
    "#OpenMC simulation parameters\n",
    "batches = 100\n",
    "inactive = 8\n",
    "particles = 3000"
   ]
  },
  {
   "cell_type": "markdown",
   "metadata": {},
   "source": [
    "Defining materials:"
   ]
  },
  {
   "cell_type": "code",
   "execution_count": 4,
   "metadata": {},
   "outputs": [],
   "source": [
    "#Fuel material settings:\n",
    "fuel_material = openmc.Material(11, name='Thorium fuel')\n",
    "fuel_material.set_density('g/cm3', 10.062)\n",
    "fuel_material.add_element(\"Th\", 0.9)\n",
    "fuel_material.add_nuclide('Pu239', 0.092) #weaponsgrade ref:\n",
    "fuel_material.add_nuclide('Pu240', 0.008) #https://www.world-nuclear.org/information-library/nuclear-fuel-cycle/fuel-recycling/plutonium.aspx\n",
    "fuel_material.add_element(\"O\", 2.0)\n",
    "fuel_material.depletable = True\n",
    "\n",
    "\n",
    "#Fuel material setting\n",
    "uo2_2 = openmc.Material(material_id=21, name='2nd Discretization, UO2 fuel at 2.4% wt enrichment')\n",
    "uo2_2.set_density('g/cm3', 10.29769)\n",
    "uo2_2.add_element('U', 1., enrichment=2.45)\n",
    "uo2_2.add_element('O', 2.)\n",
    "uo2_2.depletable = True\n",
    "\n",
    "# Fuel gap material setting\n",
    "helium = openmc.Material(material_id=13, name='Helium for gap')\n",
    "helium.set_density('g/cm3', 0.001598)\n",
    "helium.add_element('He', 2.4044e-4)\n",
    "\n",
    "\n",
    "# Fuel cladding material setting\n",
    "clad = openmc.Material(material_id=14, name='Zircaloy 4')\n",
    "clad.set_density('g/cm3', 6.55)\n",
    "clad.add_element('Sn', 0.014  , 'wo')\n",
    "clad.add_element('Fe', 0.00165, 'wo')\n",
    "clad.add_element('Cr', 0.001  , 'wo')\n",
    "clad.add_element('Zr', 0.98335, 'wo')\n",
    "\n",
    "\n",
    "\n",
    "# Moderator material setting\n",
    "borated_water = openmc.Material(material_id=15, name='Borated water')\n",
    "borated_water.set_density('g/cm3', 0.740582)\n",
    "borated_water.add_element('B', 4.0e-5)\n",
    "borated_water.add_element('H', 5.0e-2)\n",
    "borated_water.add_element('O', 2.4e-2)\n",
    "borated_water.add_s_alpha_beta('c_H_in_H2O')\n",
    "\n",
    "\n",
    "# Cold water\n",
    "cold_water = openmc.Material(material_id=16, name='Cold borated water')\n",
    "cold_water.set_density('atom/b-cm', 0.07416)\n",
    "cold_water.add_nuclide(\"H1\", 2.0)\n",
    "cold_water.add_nuclide(\"O16\", 1.0)\n",
    "cold_water.add_nuclide(\"B10\", 6.490e-4)\n",
    "cold_water.add_nuclide(\"B11\", 2.689e-3)\n",
    "cold_water.add_s_alpha_beta('c_H_in_H2O')\n",
    "\n",
    "# Hot water\n",
    "hot_water = openmc.Material(material_id=17, name='Hot borated water')\n",
    "hot_water.set_density('atom/b-cm', 0.06614)\n",
    "hot_water.add_nuclide(\"H1\", 2.0)\n",
    "hot_water.add_nuclide(\"O16\", 1.0)\n",
    "hot_water.add_nuclide(\"B10\", 6.490e-4)\n",
    "hot_water.add_nuclide(\"B11\", 2.689e-3)\n",
    "hot_water.add_s_alpha_beta('c_H_in_H2O')\n",
    "\n",
    "# Alternative moderator\n",
    "heavy_water = openmc.Material(material_id=18,name='heavy water')\n",
    "heavy_water.add_nuclide('H2', 2.0)\n",
    "heavy_water.add_nuclide('O16', 1.0)\n",
    "heavy_water.add_s_alpha_beta('c_D_in_D2O')\n",
    "heavy_water.set_density('g/cm3', 1.1)\n",
    "\n",
    "\n",
    "# Reactor shielding material\n",
    "shielding = openmc.Material(material_id=19, name='Bottom plate region')\n",
    "shielding.set_density('g/cm3', 7.184)\n",
    "shielding.add_nuclide(\"H1\", 0.0011505, 'wo')\n",
    "shielding.add_nuclide(\"O16\", 0.0091296, 'wo')\n",
    "shielding.add_nuclide(\"B10\", 3.70915e-6, 'wo')\n",
    "shielding.add_nuclide(\"B11\", 1.68974e-5, 'wo')\n",
    "shielding.add_nuclide(\"Fe54\", 0.03855611055, 'wo')\n",
    "shielding.add_nuclide(\"Fe56\", 0.627585036425, 'wo')\n",
    "shielding.add_nuclide(\"Fe57\", 0.014750478, 'wo')\n",
    "shielding.add_nuclide(\"Fe58\", 0.002000875025, 'wo')\n",
    "shielding.add_nuclide(\"Ni58\", 0.059855207342, 'wo')\n",
    "shielding.add_nuclide(\"Mn55\", 0.0197940, 'wo')\n",
    "shielding.add_nuclide(\"Cr52\", 0.157390026871, 'wo')\n",
    "shielding.add_s_alpha_beta('c_H_in_H2O')\n",
    "\n",
    "# Reactor pressure vessel material\n",
    "steel = openmc.Material(material_id=20, name='Reactor pressure vessel steel')\n",
    "steel.set_density('g/cm3', 7.9)\n",
    "steel.add_nuclide(\"Fe54\", 0.05437098, 'wo')\n",
    "steel.add_nuclide(\"Fe56\", 0.88500663, 'wo')\n",
    "steel.add_nuclide(\"Fe57\", 0.0208008, 'wo')\n",
    "steel.add_nuclide(\"Fe58\", 0.00282159, 'wo')\n",
    "steel.add_nuclide(\"Ni58\", 0.0067198, 'wo')\n",
    "steel.add_nuclide(\"Ni60\", 0.0026776, 'wo')\n",
    "steel.add_nuclide(\"Mn55\", 0.01, 'wo')\n",
    "steel.add_nuclide(\"Cr52\", 0.002092475, 'wo')\n",
    "steel.add_nuclide(\"C0\", 0.0025, 'wo')\n",
    "steel.add_nuclide(\"Cu63\", 0.0013696, 'wo')\n",
    "\n",
    "\n",
    "\n",
    "#Unborated water:\n",
    "norm_water = openmc.Material(material_id=22,name='test borated water')\n",
    "norm_water.set_density('g/cm3', 0.740582)\n",
    "norm_water.add_element('H', 2.0)\n",
    "norm_water.add_element('O', 1.0)\n",
    "norm_water.add_element('B', 25635.2 * 1e-6)\n",
    "norm_water.add_s_alpha_beta('c_H_in_H2O')"
   ]
  },
  {
   "cell_type": "markdown",
   "metadata": {},
   "source": [
    "Adding materials and exporting to .xml-file:"
   ]
  },
  {
   "cell_type": "code",
   "execution_count": 5,
   "metadata": {},
   "outputs": [],
   "source": [
    "materials_thoriumreactor = openmc.Materials([fuel_material, uo2_2, helium,\n",
    "                                            clad, borated_water,\n",
    "                                            cold_water, hot_water,\n",
    "                                            shielding, steel,\n",
    "                                            heavy_water,norm_water])\n",
    "\n",
    "materials_thoriumreactor.cross_sections = '/Users/Julian/nndc_hdf5/cross_sections.xml'\n",
    "\n",
    "materials_thoriumreactor.export_to_xml()"
   ]
  },
  {
   "cell_type": "markdown",
   "metadata": {},
   "source": [
    "Creating the geometry:"
   ]
  },
  {
   "cell_type": "code",
   "execution_count": 6,
   "metadata": {},
   "outputs": [],
   "source": [
    "#Creating the surfaces for the fuel elements\n",
    "fuel_surf = openmc.ZCylinder(r=0.38218,surface_id=1) #Surface fuel pellets\n",
    "fuel_surf_gap = openmc.ZCylinder(r=0.395,surface_id=2) #Surface fuel gap\n",
    "fuel_surf_clad_ir = openmc.ZCylinder(r=0.41005,surface_id=3) #Surface fuel cladding inner radius\n",
    "fuel_surf_clad_or = openmc.ZCylinder(r=0.46720,surface_id=4) #Surface fuel cladding outer radius\n",
    "\n",
    "\n",
    "#Creating surfaces for tank and shielding\n",
    "core_surf_tank_inner = openmc.ZCylinder(r=77.0,surface_id=5) #Inner surface reactor tank\n",
    "core_surf_tank_outer = openmc.ZCylinder(r=80.0,surface_id=6) #Outer surface reactor tank\n",
    "core_surf_vac = openmc.ZCylinder(r=90.0,surface_id=7, boundary_type='vacuum')\n",
    "\n",
    "core_surf_shield_low = openmc.ZPlane(z0=-90.0, surface_id=8, boundary_type='vacuum') #Shielding lower\n",
    "core_surf_lowertank_wall_out = openmc.ZPlane(z0=-85.0, surface_id=9) #Tank lower wall outside\n",
    "core_surf_lowertank_wall_in = openmc.ZPlane(z0=-83.0, surface_id=10) #Tank lower wall inside\n",
    "core_surf_midtank = openmc.ZPlane(z0=0.0, surface_id=11) #Middle of tank\n",
    "core_surf_uppertank_wall_in = openmc.ZPlane(z0=83.0, surface_id=12) #Tank upper wall inside\n",
    "core_surf_uppertank_wall_out = openmc.ZPlane(z0=85.0, surface_id=13) #Tank upper wall outside\n",
    "core_surf_shield_upper = openmc.ZPlane(z0=90.0, surface_id=14, boundary_type='vacuum') #Shielding upper"
   ]
  },
  {
   "cell_type": "markdown",
   "metadata": {},
   "source": [
    "Creating volumes and filling them with materials:"
   ]
  },
  {
   "cell_type": "code",
   "execution_count": 7,
   "metadata": {},
   "outputs": [],
   "source": [
    "#Defining pin cell\n",
    "fuel = openmc.Universe(name='Fuel pin, cladding',\n",
    "                      universe_id=1)\n",
    "\n",
    "fuel_cell_21 = openmc.Cell(cell_id=21, fill=fuel_material, region=-fuel_surf)\n",
    "fuel_cell_22 = openmc.Cell(cell_id=22, fill=clad, region=+fuel_surf_clad_ir & -fuel_surf_clad_or)\n",
    "fuel_cell_23 = openmc.Cell(cell_id=23, fill=norm_water, region=+fuel_surf_clad_or)\n",
    "fuel_cell_gap = openmc.Cell(cell_id=69, fill=helium, region=+fuel_surf & -fuel_surf_clad_ir)\n",
    "fuel.add_cells((fuel_cell_21, fuel_cell_gap,fuel_cell_22, fuel_cell_23))\n",
    "\n",
    "\n",
    "\n",
    "tube_cold = openmc.Universe(name='Instrumentation guide tube,  '\n",
    "                            'cold water', universe_id=2)\n",
    "\n",
    "fuel_cell_24 = openmc.Cell(cell_id=24, fill=norm_water, region=-fuel_surf_clad_ir)\n",
    "fuel_cell_25 = openmc.Cell(cell_id=25, fill=clad, region=+fuel_surf_clad_ir & -fuel_surf_clad_or)\n",
    "fuel_cell_26 = openmc.Cell(cell_id=26, fill=norm_water, region=+fuel_surf_clad_or)\n",
    "tube_cold.add_cells((fuel_cell_24, fuel_cell_25, fuel_cell_26))\n",
    "\n",
    "\n",
    "\n",
    "#Defining assemblies\n",
    "moderator_assembly = openmc.Universe(name='Water assembly',\n",
    "                                    universe_id=5)\n",
    "fuel_cell_50 = openmc.Cell(cell_id=50,fill=borated_water,\n",
    "                           region=+core_surf_lowertank_wall_in & -core_surf_uppertank_wall_in)\n",
    "moderator_assembly.add_cell(fuel_cell_50)\n",
    "\n",
    "\n",
    "#Set positions occupied by guide tubes\n",
    "tube_x = np.array([4,5,5,4])\n",
    "tube_y = np.array([5,5,4,4])\n",
    "\n",
    "\n",
    "\n",
    "#Defining assembly lattice\n",
    "fuel_lattice_101 = openmc.RectLattice(name='Fuel lattice',\n",
    "                                     lattice_id=101)\n",
    "fuel_lattice_101.lower_left = (-5,-5)\n",
    "fuel_lattice_101.pitch = (1,1)\n",
    "fuel_lattice_101.universes = np.tile(fuel,(10,10))\n",
    "fuel_lattice_101.universes[tube_x,tube_y] = tube_cold\n",
    "\n",
    "\n",
    "#Construct filling for the reactor core lattice\n",
    "fuel_assembly = openmc.Universe(name='Fuel assembly',\n",
    "                               universe_id = 6)\n",
    "fuel_assembly_cell_60 = openmc.Cell(cell_id=60, fill=fuel_lattice_101,\n",
    "                                   region = +core_surf_lowertank_wall_in & -core_surf_uppertank_wall_in)\n",
    "fuel_assembly.add_cell(fuel_assembly_cell_60)\n",
    "\n",
    "\n",
    "\n",
    "fuel_assembly_hotwater = openmc.Universe(name='Water assembly',\n",
    "                                          universe_id=8)\n",
    "fuel_cell_70 = openmc.Cell(cell_id=70,fill=norm_water,\n",
    "                          region= +core_surf_lowertank_wall_in & -core_surf_uppertank_wall_in)\n",
    "fuel_assembly_hotwater.add_cell(fuel_cell_70)\n",
    "\n",
    "\n",
    "#Constructing core lattice\n",
    "core_lattice = openmc.RectLattice(name='Core lattice',\n",
    "                                 lattice_id=200)\n",
    "core_lattice.lower_left = (-80.0,-80.0)\n",
    "core_lattice.pitch = (10,10)\n",
    "core_lattice.universes = [[fuel_assembly_hotwater]*16,\n",
    "                         [fuel_assembly_hotwater]*5 + [fuel_assembly]*6 + [fuel_assembly_hotwater]*5,\n",
    "                         [fuel_assembly_hotwater]*4 + [fuel_assembly]*8 + [fuel_assembly_hotwater]*4,\n",
    "                         [fuel_assembly_hotwater]*3 + [fuel_assembly]*10 + [fuel_assembly_hotwater]*3,\n",
    "                         [fuel_assembly_hotwater]*2 + [fuel_assembly]*12 + [fuel_assembly_hotwater]*2,\n",
    "                         [fuel_assembly_hotwater]*1 + [fuel_assembly]*14 + [fuel_assembly_hotwater]*1,\n",
    "                         [fuel_assembly_hotwater]*1 + [fuel_assembly]*14 + [fuel_assembly_hotwater]*1,\n",
    "                         [fuel_assembly_hotwater]*1 + [fuel_assembly]*14 + [fuel_assembly_hotwater]*1,\n",
    "                         [fuel_assembly_hotwater]*1 + [fuel_assembly]*14 + [fuel_assembly_hotwater]*1,\n",
    "                         [fuel_assembly_hotwater]*1 + [fuel_assembly]*14 + [fuel_assembly_hotwater]*1,\n",
    "                         [fuel_assembly_hotwater]*1 + [fuel_assembly]*14 + [fuel_assembly_hotwater]*1,\n",
    "                         [fuel_assembly_hotwater]*2 + [fuel_assembly]*12 + [fuel_assembly_hotwater]*2,\n",
    "                         [fuel_assembly_hotwater]*3 + [fuel_assembly]*10 + [fuel_assembly_hotwater]*3,\n",
    "                         [fuel_assembly_hotwater]*4 + [fuel_assembly]*8 + [fuel_assembly_hotwater]*4,\n",
    "                         [fuel_assembly_hotwater]*5 + [fuel_assembly]*6 + [fuel_assembly_hotwater]*5,\n",
    "                         [fuel_assembly_hotwater]*16]"
   ]
  },
  {
   "cell_type": "markdown",
   "metadata": {},
   "source": [
    "Filling the simulation universe:"
   ]
  },
  {
   "cell_type": "code",
   "execution_count": 8,
   "metadata": {},
   "outputs": [],
   "source": [
    "geometry = openmc.Geometry()\n",
    "\n",
    "#Assign cells to the universe\n",
    "simulation_universe = openmc.Universe(universe_id=0,\n",
    "                                     name='root universe')\n",
    "\n",
    "c1 = openmc.Cell(cell_id=1, fill=core_lattice,\n",
    "                region= -core_surf_tank_inner & +core_surf_lowertank_wall_in & -core_surf_uppertank_wall_in,\n",
    "                name='Tank')\n",
    "\n",
    "c2 = openmc.Cell(cell_id=2, fill=steel,\n",
    "                region= -core_surf_tank_outer & +core_surf_tank_inner & +core_surf_lowertank_wall_in & -core_surf_uppertank_wall_in)\n",
    "\n",
    "c3 = openmc.Cell(cell_id=3, fill=shielding,\n",
    "                region= -core_surf_vac & +core_surf_tank_outer & +core_surf_lowertank_wall_in & -core_surf_uppertank_wall_in)\n",
    "\n",
    "c4 = openmc.Cell(cell_id=4, fill=steel,\n",
    "                region= -core_surf_vac & +core_surf_uppertank_wall_in & -core_surf_uppertank_wall_out)\n",
    "\n",
    "c5 = openmc.Cell(cell_id=5, fill=steel,\n",
    "                region= -core_surf_vac & +core_surf_lowertank_wall_out & -core_surf_lowertank_wall_in)\n",
    "\n",
    "c6 = openmc.Cell(cell_id=6, fill=shielding,\n",
    "                region= -core_surf_vac & +core_surf_uppertank_wall_out & -core_surf_shield_upper)\n",
    "\n",
    "c7 = openmc.Cell(cell_id=7, fill=shielding,\n",
    "                region= -core_surf_vac & +core_surf_shield_low & -core_surf_lowertank_wall_out)\n",
    "\n",
    "\n",
    "simulation_universe.add_cells((c1,c2,c3,c4,c5,c6,c7))\n",
    "geometry.root_universe = simulation_universe"
   ]
  },
  {
   "cell_type": "markdown",
   "metadata": {},
   "source": [
    "Setting volumes of the depletable materials"
   ]
  },
  {
   "cell_type": "code",
   "execution_count": 9,
   "metadata": {},
   "outputs": [
    {
     "name": "stdout",
     "output_type": "stream",
     "text": [
      "Volume: 1713864.1364692263\n"
     ]
    }
   ],
   "source": [
    "# Compute cell areas\n",
    "volume = {}\n",
    "volume[fuel_material] = np.pi * (fuel_surf.coefficients['r'] ** 2) * 2*np.abs(core_surf_lowertank_wall_in.coefficients['z0']) * 10 * 10 * 15*15\n",
    "#volume[fuel_cold] = np.pi * s1.coefficients['r'] ** 2\n",
    "\n",
    "# Set materials volume for depletion. Set to an area for 2D simulations\n",
    "fuel_material.volume = volume[fuel_material] #+ volume[fuel_hot];\n",
    "\n",
    "print('Volume:', volume[fuel_material])"
   ]
  },
  {
   "cell_type": "markdown",
   "metadata": {},
   "source": [
    "Creating tallies to obtain neutron information:"
   ]
  },
  {
   "cell_type": "code",
   "execution_count": 15,
   "metadata": {},
   "outputs": [],
   "source": [
    "tallies_file = openmc.Tallies()\n",
    "\n",
    "\n",
    "#Creating a particle filter\n",
    "particle_filter = openmc.ParticleFilter(['neutron','photon'])\n",
    "\n",
    "\n",
    "# XY-MESH\n",
    "#Creating mesh and mesh filter\n",
    "mesh_xy = openmc.RegularMesh(mesh_id=1)\n",
    "mesh_xy.dimension = [200,200,1]\n",
    "mesh_xy.lower_left = [-100,-100,-1.e50]\n",
    "mesh_xy.upper_right = [100,100,1.e50]\n",
    "\n",
    "mesh_filter_xy = openmc.MeshFilter(mesh_xy)\n",
    "\n",
    "#Creating mesh tally\n",
    "tally_xy = openmc.Tally(name='flux_xy',tally_id=1)\n",
    "tally_xy.filters = [mesh_filter_xy, particle_filter]\n",
    "tally_xy.scores = ['flux','fission','nu-fission']\n",
    "tallies_file.append(tally_xy)\n",
    "\n",
    "\n",
    "# XZ-MESH\n",
    "#Creating mesh and mesh filter\n",
    "mesh_xz = openmc.RegularMesh(mesh_id=2)\n",
    "mesh_xz.dimension = [200,1,200]\n",
    "mesh_xz.lower_left = [-100,-1.e50,-100]\n",
    "mesh_xz.upper_right = [100,1.e50,100]\n",
    "\n",
    "mesh_filter_xz = openmc.MeshFilter(mesh_xz)\n",
    "\n",
    "#Creating mesh tally\n",
    "tally_xz = openmc.Tally(name='flux_xz',tally_id=2)\n",
    "tally_xz.filters = [mesh_filter_xz, particle_filter]\n",
    "tally_xz.scores = ['flux','fission','nu-fission']\n",
    "tallies_file.append(tally_xz)\n",
    "\n",
    "\n",
    "# YZ-MESH\n",
    "#Creating mesh and mesh filter\n",
    "mesh_yz = openmc.RegularMesh(mesh_id=3)\n",
    "mesh_yz.dimension = [1,200,200]\n",
    "mesh_yz.lower_left = [-1.e50,-100,-100]\n",
    "mesh_yz.upper_right = [1.e50,100,100]\n",
    "\n",
    "mesh_filter_yz = openmc.MeshFilter(mesh_yz)\n",
    "\n",
    "#Creating mesh tally\n",
    "tally_yz = openmc.Tally(name='flux_yz',tally_id=3)\n",
    "tally_yz.filters = [mesh_filter_yz, particle_filter]\n",
    "tally_yz.scores = ['flux','fission','nu-fission']\n",
    "tallies_file.append(tally_yz)"
   ]
  },
  {
   "cell_type": "markdown",
   "metadata": {},
   "source": [
    "Setting depletion chain and simulation settings:"
   ]
  },
  {
   "cell_type": "code",
   "execution_count": 16,
   "metadata": {},
   "outputs": [],
   "source": [
    "chain_file = '/Users/Julian/Desktop/FYS4580/FYS4580/OpenMC_Project/chain_casl.xml';\n",
    "\n",
    "power = 1.2e6\n",
    "days = 24*60*60\n",
    "\n",
    "\n",
    "timesteps = [1.0*days, 1.0*days, 1.0*days, 1.0*days, 1.0*days,\n",
    "             1.0*days, 1.0*days, 1.0*days, 1.0*days, 1.0*days,\n",
    "             1.0*days, 1.0*days, 1.0*days, 1.0*days, 1.0*days,\n",
    "             1.0*days, 1.0*days, 1.0*days, 1.0*days, 1.0*days]\n"
   ]
  },
  {
   "cell_type": "markdown",
   "metadata": {},
   "source": [
    "Adding the settings:"
   ]
  },
  {
   "cell_type": "code",
   "execution_count": 17,
   "metadata": {},
   "outputs": [],
   "source": [
    "settings = openmc.Settings()\n",
    "settings.batches = batches\n",
    "settings.inactive = inactive\n",
    "settings.particles = particles\n",
    "settings.run_mode = 'eigenvalue'\n",
    "\n",
    "settings.source = openmc.Source(space=openmc.stats.Box([-50.0,-50.0,-50.0],\n",
    "                                                      [50.0,50.0,50.0]))"
   ]
  },
  {
   "cell_type": "markdown",
   "metadata": {},
   "source": [
    "Exporting to xml-files:"
   ]
  },
  {
   "cell_type": "code",
   "execution_count": 18,
   "metadata": {},
   "outputs": [],
   "source": [
    "settings.export_to_xml()\n",
    "geometry.export_to_xml()\n",
    "tallies_file.export_to_xml()"
   ]
  },
  {
   "cell_type": "markdown",
   "metadata": {},
   "source": [
    "Plotting the geometry:"
   ]
  },
  {
   "cell_type": "code",
   "execution_count": 19,
   "metadata": {},
   "outputs": [
    {
     "name": "stdout",
     "output_type": "stream",
     "text": [
      "                                %%%%%%%%%%%%%%%\n",
      "                           %%%%%%%%%%%%%%%%%%%%%%%%\n",
      "                        %%%%%%%%%%%%%%%%%%%%%%%%%%%%%%\n",
      "                      %%%%%%%%%%%%%%%%%%%%%%%%%%%%%%%%%%\n",
      "                    %%%%%%%%%%%%%%%%%%%%%%%%%%%%%%%%%%%%%%\n",
      "                   %%%%%%%%%%%%%%%%%%%%%%%%%%%%%%%%%%%%%%%%\n",
      "                                    %%%%%%%%%%%%%%%%%%%%%%%%\n",
      "                                     %%%%%%%%%%%%%%%%%%%%%%%%\n",
      "                 ###############      %%%%%%%%%%%%%%%%%%%%%%%%\n",
      "                ##################     %%%%%%%%%%%%%%%%%%%%%%%\n",
      "                ###################     %%%%%%%%%%%%%%%%%%%%%%%\n",
      "                ####################     %%%%%%%%%%%%%%%%%%%%%%\n",
      "                #####################     %%%%%%%%%%%%%%%%%%%%%\n",
      "                ######################     %%%%%%%%%%%%%%%%%%%%\n",
      "                #######################     %%%%%%%%%%%%%%%%%%\n",
      "                 #######################     %%%%%%%%%%%%%%%%%\n",
      "                 ######################     %%%%%%%%%%%%%%%%%\n",
      "                  ####################     %%%%%%%%%%%%%%%%%\n",
      "                    #################     %%%%%%%%%%%%%%%%%\n",
      "                     ###############     %%%%%%%%%%%%%%%%\n",
      "                       ############     %%%%%%%%%%%%%%%\n",
      "                          ########     %%%%%%%%%%%%%%\n",
      "                                      %%%%%%%%%%%\n",
      "\n",
      "                   | The OpenMC Monte Carlo Code\n",
      "         Copyright | 2011-2019 MIT and OpenMC contributors\n",
      "           License | http://openmc.readthedocs.io/en/latest/license.html\n",
      "           Version | 0.11.0\n",
      "          Git SHA1 | 7a4c5b47342b175b3f113c6a6e28db10e0bc8ae7\n",
      "         Date/Time | 2019-10-24 08:38:39\n",
      "\n",
      " Reading settings XML file...\n",
      " Reading cross sections XML file...\n",
      " Reading materials XML file...\n",
      " Reading geometry XML file...\n",
      " Reading Th230 from /Users/Julian/nndc_hdf5/Th230.h5\n",
      " Reading Th232 from /Users/Julian/nndc_hdf5/Th232.h5\n",
      " Reading Pu239 from /Users/Julian/nndc_hdf5/Pu239.h5\n",
      " Reading Pu240 from /Users/Julian/nndc_hdf5/Pu240.h5\n",
      " Reading O16 from /Users/Julian/nndc_hdf5/O16.h5\n",
      " Reading O17 from /Users/Julian/nndc_hdf5/O17.h5\n",
      " Reading He3 from /Users/Julian/nndc_hdf5/He3.h5\n",
      " Reading He4 from /Users/Julian/nndc_hdf5/He4.h5\n",
      " Reading Sn112 from /Users/Julian/nndc_hdf5/Sn112.h5\n",
      " Reading Sn114 from /Users/Julian/nndc_hdf5/Sn114.h5\n",
      " Reading Sn115 from /Users/Julian/nndc_hdf5/Sn115.h5\n",
      " Reading Sn116 from /Users/Julian/nndc_hdf5/Sn116.h5\n",
      " Reading Sn117 from /Users/Julian/nndc_hdf5/Sn117.h5\n",
      " Reading Sn118 from /Users/Julian/nndc_hdf5/Sn118.h5\n",
      " Reading Sn119 from /Users/Julian/nndc_hdf5/Sn119.h5\n",
      " Reading Sn120 from /Users/Julian/nndc_hdf5/Sn120.h5\n",
      " Reading Sn122 from /Users/Julian/nndc_hdf5/Sn122.h5\n",
      " Reading Sn124 from /Users/Julian/nndc_hdf5/Sn124.h5\n",
      " Reading Fe54 from /Users/Julian/nndc_hdf5/Fe54.h5\n",
      " Reading Fe56 from /Users/Julian/nndc_hdf5/Fe56.h5\n",
      " Reading Fe57 from /Users/Julian/nndc_hdf5/Fe57.h5\n",
      " Reading Fe58 from /Users/Julian/nndc_hdf5/Fe58.h5\n",
      " Reading Cr50 from /Users/Julian/nndc_hdf5/Cr50.h5\n",
      " Reading Cr52 from /Users/Julian/nndc_hdf5/Cr52.h5\n",
      " Reading Cr53 from /Users/Julian/nndc_hdf5/Cr53.h5\n",
      " Reading Cr54 from /Users/Julian/nndc_hdf5/Cr54.h5\n",
      " Reading Zr90 from /Users/Julian/nndc_hdf5/Zr90.h5\n",
      " Reading Zr91 from /Users/Julian/nndc_hdf5/Zr91.h5\n",
      " Reading Zr92 from /Users/Julian/nndc_hdf5/Zr92.h5\n",
      " Reading Zr94 from /Users/Julian/nndc_hdf5/Zr94.h5\n",
      " Reading Zr96 from /Users/Julian/nndc_hdf5/Zr96.h5\n",
      " Reading B10 from /Users/Julian/nndc_hdf5/B10.h5\n",
      " Reading B11 from /Users/Julian/nndc_hdf5/B11.h5\n",
      " Reading H1 from /Users/Julian/nndc_hdf5/H1.h5\n",
      " Reading H2 from /Users/Julian/nndc_hdf5/H2.h5\n",
      " Reading Ni58 from /Users/Julian/nndc_hdf5/Ni58.h5\n",
      " Reading Mn55 from /Users/Julian/nndc_hdf5/Mn55.h5\n",
      " Reading Ni60 from /Users/Julian/nndc_hdf5/Ni60.h5\n",
      " Reading C0 from /Users/Julian/nndc_hdf5/C0.h5\n",
      " Reading Cu63 from /Users/Julian/nndc_hdf5/Cu63.h5\n",
      " Reading U234 from /Users/Julian/nndc_hdf5/U234.h5\n",
      " Reading U235 from /Users/Julian/nndc_hdf5/U235.h5\n",
      " Reading U238 from /Users/Julian/nndc_hdf5/U238.h5\n",
      " Reading U236 from /Users/Julian/nndc_hdf5/U236.h5\n",
      " Reading c_H_in_H2O from /Users/Julian/nndc_hdf5/c_H_in_H2O.h5\n",
      " Reading c_D_in_D2O from /Users/Julian/nndc_hdf5/c_D_in_D2O.h5\n",
      " Maximum neutron transport energy: 20000000.000000 eV for Th230\n",
      " Minimum neutron data temperature: 294.000000 K\n",
      " Maximum neutron data temperature: 294.000000 K\n",
      " Reading tallies XML file...\n",
      " WARNING: Particle filter other than NEUTRON used with photon transport turned\n",
      "          off. All tallies for particle type 1 will have no scores\n",
      " WARNING: Particle filter other than NEUTRON used with photon transport turned\n",
      "          off. All tallies for particle type 1 will have no scores\n",
      " WARNING: Particle filter other than NEUTRON used with photon transport turned\n",
      "          off. All tallies for particle type 1 will have no scores\n",
      " Writing summary.h5 file...\n",
      " Initializing source particles...\n",
      "\n",
      " ====================>     K EIGENVALUE SIMULATION     <====================\n",
      "\n",
      "  Bat./Gen.      k            Average k\n",
      "  =========   ========   ====================\n",
      "        1/1    1.01934\n",
      "        2/1    1.00085\n",
      "        3/1    1.06373\n",
      "        4/1    1.00459\n",
      "        5/1    0.98287\n",
      "        6/1    0.99367\n",
      "        7/1    0.99270\n",
      "        8/1    1.03409\n",
      "        9/1    1.01167\n",
      "       10/1    0.99960    1.00564 +/- 0.00603\n",
      "       11/1    1.01034    1.00720 +/- 0.00382\n",
      "       12/1    0.99838    1.00500 +/- 0.00349\n",
      "       13/1    0.98872    1.00174 +/- 0.00423\n",
      "       14/1    0.99181    1.00009 +/- 0.00383\n",
      "       15/1    1.00417    1.00067 +/- 0.00329\n",
      "       16/1    0.98479    0.99868 +/- 0.00347\n",
      "       17/1    1.00323    0.99919 +/- 0.00310\n",
      "       18/1    1.01355    1.00063 +/- 0.00313\n",
      "       19/1    0.99819    1.00040 +/- 0.00284\n",
      "       20/1    1.00605    1.00087 +/- 0.00263\n",
      "       21/1    1.05103    1.00473 +/- 0.00455\n",
      "       22/1    1.00617    1.00484 +/- 0.00422\n",
      "       23/1    0.96643    1.00228 +/- 0.00469\n",
      "       24/1    1.02713    1.00383 +/- 0.00465\n",
      "       25/1    0.97032    1.00186 +/- 0.00479\n",
      "       26/1    0.98645    1.00100 +/- 0.00460\n",
      "       27/1    0.97608    0.99969 +/- 0.00454\n",
      "       28/1    0.96862    0.99814 +/- 0.00458\n",
      "       29/1    0.99788    0.99812 +/- 0.00436\n",
      "       30/1    0.99175    0.99783 +/- 0.00417\n",
      "       31/1    1.00596    0.99819 +/- 0.00400\n",
      "       32/1    1.01760    0.99900 +/- 0.00391\n",
      "       33/1    1.01259    0.99954 +/- 0.00379\n",
      "       34/1    0.97586    0.99863 +/- 0.00375\n",
      "       35/1    0.99925    0.99865 +/- 0.00361\n",
      "       36/1    0.99498    0.99852 +/- 0.00348\n",
      "       37/1    0.98928    0.99820 +/- 0.00338\n",
      "       38/1    1.00827    0.99854 +/- 0.00328\n",
      "       39/1    1.00912    0.99888 +/- 0.00319\n",
      "       40/1    0.99006    0.99860 +/- 0.00310\n",
      "       41/1    1.00363    0.99876 +/- 0.00301\n",
      "       42/1    0.96247    0.99769 +/- 0.00311\n",
      "       43/1    1.04422    0.99902 +/- 0.00330\n",
      "       44/1    1.00033    0.99906 +/- 0.00321\n",
      "       45/1    1.00653    0.99926 +/- 0.00312\n",
      "       46/1    0.97839    0.99871 +/- 0.00309\n",
      "       47/1    0.99718    0.99867 +/- 0.00301\n",
      "       48/1    0.98420    0.99831 +/- 0.00296\n",
      "       49/1    0.99764    0.99829 +/- 0.00288\n",
      "       50/1    0.97143    0.99765 +/- 0.00289\n",
      "       51/1    0.99132    0.99750 +/- 0.00282\n",
      "       52/1    0.98563    0.99723 +/- 0.00277\n",
      "       53/1    1.01398    0.99761 +/- 0.00273\n",
      "       54/1    0.98015    0.99723 +/- 0.00270\n",
      "       55/1    1.01593    0.99763 +/- 0.00267\n",
      "       56/1    1.00260    0.99773 +/- 0.00262\n",
      "       57/1    0.98249    0.99742 +/- 0.00258\n",
      "       58/1    0.98954    0.99726 +/- 0.00253\n",
      "       59/1    0.97916    0.99691 +/- 0.00251\n",
      "       60/1    0.99049    0.99678 +/- 0.00246\n",
      "       61/1    0.98902    0.99664 +/- 0.00242\n",
      "       62/1    0.96219    0.99600 +/- 0.00246\n",
      "       63/1    0.98515    0.99580 +/- 0.00242\n",
      "       64/1    0.99122    0.99572 +/- 0.00238\n",
      "       65/1    1.00288    0.99584 +/- 0.00234\n",
      "       66/1    0.99405    0.99581 +/- 0.00230\n",
      "       67/1    0.98438    0.99562 +/- 0.00227\n",
      "       68/1    1.02303    0.99608 +/- 0.00228\n",
      "       69/1    1.00946    0.99630 +/- 0.00225\n",
      "       70/1    1.04123    0.99702 +/- 0.00233\n",
      "       71/1    1.01002    0.99723 +/- 0.00230\n",
      "       72/1    0.98853    0.99709 +/- 0.00227\n",
      "       73/1    1.00941    0.99728 +/- 0.00224\n",
      "       74/1    1.00459    0.99739 +/- 0.00221\n",
      "       75/1    0.96437    0.99690 +/- 0.00223\n",
      "       76/1    1.02663    0.99734 +/- 0.00224\n",
      "       77/1    0.99895    0.99736 +/- 0.00221\n",
      "       78/1    0.98722    0.99721 +/- 0.00218\n",
      "       79/1    0.99842    0.99723 +/- 0.00215\n",
      "       80/1    0.99837    0.99725 +/- 0.00212\n",
      "       81/1    0.99138    0.99717 +/- 0.00210\n",
      "       82/1    1.02256    0.99751 +/- 0.00210\n",
      "       83/1    0.98764    0.99738 +/- 0.00207\n",
      "       84/1    0.97220    0.99705 +/- 0.00207\n",
      "       85/1    0.99546    0.99703 +/- 0.00204\n",
      "       86/1    0.98058    0.99682 +/- 0.00203\n",
      "       87/1    1.02866    0.99722 +/- 0.00204\n",
      "       88/1    0.96591    0.99683 +/- 0.00205\n",
      "       89/1    1.03133    0.99725 +/- 0.00207\n",
      "       90/1    1.00319    0.99733 +/- 0.00205\n",
      "       91/1    1.03357    0.99776 +/- 0.00207\n",
      "       92/1    0.99627    0.99774 +/- 0.00205\n",
      "       93/1    0.98348    0.99758 +/- 0.00203\n",
      "       94/1    0.97423    0.99731 +/- 0.00202\n",
      "       95/1    1.04382    0.99784 +/- 0.00207\n",
      "       96/1    1.00104    0.99788 +/- 0.00205\n",
      "       97/1    1.03660    0.99831 +/- 0.00207\n",
      "       98/1    1.00126    0.99834 +/- 0.00205\n",
      "       99/1    0.99749    0.99833 +/- 0.00202\n",
      "      100/1    1.00426    0.99840 +/- 0.00200\n",
      " Creating state point statepoint.100.h5...\n",
      "\n",
      " =======================>     TIMING STATISTICS     <=======================\n",
      "\n",
      " Total time for initialization     = 8.1840e+00 seconds\n",
      "   Reading cross sections          = 8.0674e+00 seconds\n",
      " Total time in simulation          = 1.7128e+02 seconds\n",
      "   Time in transport only          = 1.7095e+02 seconds\n",
      "   Time in inactive batches        = 5.5330e+00 seconds\n",
      "   Time in active batches          = 1.6575e+02 seconds\n",
      "   Time synchronizing fission bank = 2.0523e-02 seconds\n",
      "     Sampling source sites         = 1.8390e-02 seconds\n",
      "     SEND/RECV source sites        = 2.0352e-03 seconds\n",
      "   Time accumulating tallies       = 2.4671e-01 seconds\n",
      " Total time for finalization       = 1.1932e+00 seconds\n",
      " Total time elapsed                = 1.8068e+02 seconds\n",
      " Calculation Rate (inactive)       = 4337.61 particles/second\n",
      " Calculation Rate (active)         = 1665.20 particles/second\n",
      "\n",
      " ============================>     RESULTS     <============================\n",
      "\n",
      " k-effective (Collision)     = 0.99891 +/- 0.00157\n",
      " k-effective (Track-length)  = 0.99840 +/- 0.00200\n",
      " k-effective (Absorption)    = 0.99995 +/- 0.00183\n",
      " Combined k-effective        = 0.99921 +/- 0.00132\n",
      " Leakage Fraction            = 0.02625 +/- 0.00038\n",
      "\n"
     ]
    }
   ],
   "source": [
    "p1 = openmc.Plot()\n",
    "p1.filename = 'materials-xy'\n",
    "p1.origin = [0, 0, 0]\n",
    "p1.basis = 'xy'\n",
    "p1.width = [200.0, 200.0]\n",
    "p1.pixels = [3000, 3000]\n",
    "p1.color_by = 'material'\n",
    "\n",
    "\n",
    "p2 = openmc.Plot()\n",
    "p2.filename = 'materials-xz'\n",
    "p2.origin = [0, 0, 0]\n",
    "p2.basis = 'xz'\n",
    "p2.width = [200.0, 200.0]\n",
    "p2.pixels = [3000, 3000]\n",
    "p2.color_by = 'material'\n",
    "\n",
    "\n",
    "p3 = openmc.Plot()\n",
    "p3.filename = 'materials-yz'\n",
    "p3.origin = [0, 0, 0]\n",
    "p3.basis = 'yz'\n",
    "p3.width = [200.0, 200.0]\n",
    "p3.pixels = [3000, 3000]\n",
    "p3.color_by = 'material'\n",
    "\n",
    "\n",
    "#Make a collection of plots\n",
    "plot_files = openmc.Plots([p1,p2,p3])\n",
    "plot_files.export_to_xml()\n",
    "openmc.run()"
   ]
  },
  {
   "cell_type": "code",
   "execution_count": 20,
   "metadata": {},
   "outputs": [
    {
     "name": "stdout",
     "output_type": "stream",
     "text": [
      "                                %%%%%%%%%%%%%%%\n",
      "                           %%%%%%%%%%%%%%%%%%%%%%%%\n",
      "                        %%%%%%%%%%%%%%%%%%%%%%%%%%%%%%\n",
      "                      %%%%%%%%%%%%%%%%%%%%%%%%%%%%%%%%%%\n",
      "                    %%%%%%%%%%%%%%%%%%%%%%%%%%%%%%%%%%%%%%\n",
      "                   %%%%%%%%%%%%%%%%%%%%%%%%%%%%%%%%%%%%%%%%\n",
      "                                    %%%%%%%%%%%%%%%%%%%%%%%%\n",
      "                                     %%%%%%%%%%%%%%%%%%%%%%%%\n",
      "                 ###############      %%%%%%%%%%%%%%%%%%%%%%%%\n",
      "                ##################     %%%%%%%%%%%%%%%%%%%%%%%\n",
      "                ###################     %%%%%%%%%%%%%%%%%%%%%%%\n",
      "                ####################     %%%%%%%%%%%%%%%%%%%%%%\n",
      "                #####################     %%%%%%%%%%%%%%%%%%%%%\n",
      "                ######################     %%%%%%%%%%%%%%%%%%%%\n",
      "                #######################     %%%%%%%%%%%%%%%%%%\n",
      "                 #######################     %%%%%%%%%%%%%%%%%\n",
      "                 ######################     %%%%%%%%%%%%%%%%%\n",
      "                  ####################     %%%%%%%%%%%%%%%%%\n",
      "                    #################     %%%%%%%%%%%%%%%%%\n",
      "                     ###############     %%%%%%%%%%%%%%%%\n",
      "                       ############     %%%%%%%%%%%%%%%\n",
      "                          ########     %%%%%%%%%%%%%%\n",
      "                                      %%%%%%%%%%%\n",
      "\n",
      "                   | The OpenMC Monte Carlo Code\n",
      "         Copyright | 2011-2019 MIT and OpenMC contributors\n",
      "           License | http://openmc.readthedocs.io/en/latest/license.html\n",
      "           Version | 0.11.0\n",
      "          Git SHA1 | 7a4c5b47342b175b3f113c6a6e28db10e0bc8ae7\n",
      "         Date/Time | 2019-10-24 08:41:39\n",
      "\n",
      " Reading settings XML file...\n",
      " Reading cross sections XML file...\n",
      " Reading materials XML file...\n",
      " Reading geometry XML file...\n",
      " Reading tallies XML file...\n",
      " Reading plot XML file...\n",
      "\n",
      " =======================>     PLOTTING SUMMARY     <========================\n",
      "\n",
      "Plot ID: 1\n",
      "Plot file: materials-xy.ppm\n",
      "Universe depth: -1\n",
      "Plot Type: Slice\n",
      "Origin: 0 0 0\n",
      "Width: 200 200\n",
      "Coloring: Materials\n",
      "Basis: XY\n",
      "Pixels: 3000 3000 \n",
      "\n",
      "Plot ID: 2\n",
      "Plot file: materials-xz.ppm\n",
      "Universe depth: -1\n",
      "Plot Type: Slice\n",
      "Origin: 0 0 0\n",
      "Width: 200 200\n",
      "Coloring: Materials\n",
      "Basis: XZ\n",
      "Pixels: 3000 3000 \n",
      "\n",
      "Plot ID: 3\n",
      "Plot file: materials-yz.ppm\n",
      "Universe depth: -1\n",
      "Plot Type: Slice\n",
      "Origin: 0 0 0\n",
      "Width: 200 200\n",
      "Coloring: Materials\n",
      "Basis: YZ\n",
      "Pixels: 3000 3000 \n",
      "\n",
      " Processing plot 1: materials-xy.ppm...\n",
      " Processing plot 2: materials-xz.ppm...\n",
      " Processing plot 3: materials-yz.ppm...\n"
     ]
    }
   ],
   "source": [
    "openmc.plot_geometry()"
   ]
  },
  {
   "cell_type": "code",
   "execution_count": 21,
   "metadata": {},
   "outputs": [
    {
     "data": {
      "image/png": "[encoded data removed]",
      "text/plain": [
       "<IPython.core.display.Image object>"
      ]
     },
     "metadata": {},
     "output_type": "display_data"
    }
   ],
   "source": [
    "openmc.plot_inline(p1)"
   ]
  },
  {
   "cell_type": "code",
   "execution_count": 22,
   "metadata": {},
   "outputs": [],
   "source": [
    "#openmc.plot_inline(p2)"
   ]
  },
  {
   "cell_type": "code",
   "execution_count": 23,
   "metadata": {},
   "outputs": [],
   "source": [
    "#openmc.plot_inline(p3)"
   ]
  },
  {
   "cell_type": "markdown",
   "metadata": {},
   "source": [
    "Running depletion chain:"
   ]
  },
  {
   "cell_type": "code",
   "execution_count": 24,
   "metadata": {},
   "outputs": [
    {
     "data": {
      "text/plain": [
       "'\\nprint(\"Running depletion...\")\\nop = openmc.deplete.Operator(geometry, settings, chain_file)\\n\\n# Perform simulation using the cecm algorithm\\nopenmc.deplete.CECMIntegrator(op, timesteps, power).integrate()\\n'"
      ]
     },
     "execution_count": 24,
     "metadata": {},
     "output_type": "execute_result"
    }
   ],
   "source": [
    "'''\n",
    "print(\"Running depletion...\")\n",
    "op = openmc.deplete.Operator(geometry, settings, chain_file)\n",
    "\n",
    "# Perform simulation using the cecm algorithm\n",
    "openmc.deplete.CECMIntegrator(op, timesteps, power).integrate()\n",
    "'''"
   ]
  },
  {
   "cell_type": "code",
   "execution_count": 25,
   "metadata": {},
   "outputs": [],
   "source": [
    "#openmc.run()"
   ]
  },
  {
   "cell_type": "markdown",
   "metadata": {},
   "source": [
    "Statepoint tally information:"
   ]
  },
  {
   "cell_type": "code",
   "execution_count": 61,
   "metadata": {},
   "outputs": [
    {
     "data": {
      "image/png": "[encoded data removed]",
      "text/plain": [
       "<Figure size 432x288 with 2 Axes>"
      ]
     },
     "metadata": {
      "needs_background": "light"
     },
     "output_type": "display_data"
    }
   ],
   "source": [
    "sp = openmc.StatePoint('statepoint.100.h5')\n",
    "sp_tally = sp.get_tally(scores=['flux','fission','nu-fission'])\n",
    "\n",
    "\n",
    "flux = sp_tally.get_slice(scores=['flux'])\n",
    "neutron_flux = flux.get_slice(filters = [openmc.ParticleFilter], \n",
    "                              filter_bins=[(('neutron'),)], squeeze = True)\n",
    "\n",
    "\n",
    "fission = sp_tally.get_slice(scores=['fission'])\n",
    "neutron_fission = fission.get_slice(filters = [openmc.ParticleFilter],\n",
    "                                   filter_bins = [(('neutron'),)], squeeze = True)\n",
    "\n",
    "nu_fission = sp_tally.get_slice(scores=['nu-fission'])\n",
    "\n",
    "neutron_flux.std_dev.shape=(200,200)\n",
    "neutron_flux.mean.shape=(200,200)\n",
    "\n",
    "neutron_fission.std_dev.shape=(200,200)\n",
    "neutron_fission.mean.shape=(200,200)\n",
    "\n",
    "fig = plt.subplot(121)\n",
    "fig.imshow(neutron_flux.mean)\n",
    "fig2 = plt.subplot(122)\n",
    "fig2.imshow(neutron_fission.mean)\n",
    "plt.show()"
   ]
  },
  {
   "cell_type": "markdown",
   "metadata": {},
   "source": [
    "Source sites:\n"
   ]
  },
  {
   "cell_type": "code",
   "execution_count": 58,
   "metadata": {},
   "outputs": [
    {
     "name": "stdout",
     "output_type": "stream",
     "text": [
      "1.0\n"
     ]
    },
    {
     "ename": "ValueError",
     "evalue": "x and y must have same first dimension, but have shapes (50,) and (40000, 1, 1)",
     "output_type": "error",
     "traceback": [
      "\u001b[0;31m---------------------------------------------------------------------------\u001b[0m",
      "\u001b[0;31mValueError\u001b[0m                                Traceback (most recent call last)",
      "\u001b[0;32m<ipython-input-58-898a8f7bf3be>\u001b[0m in \u001b[0;36m<module>\u001b[0;34m\u001b[0m\n\u001b[1;32m     10\u001b[0m \u001b[0;34m\u001b[0m\u001b[0m\n\u001b[1;32m     11\u001b[0m \u001b[0;34m\u001b[0m\u001b[0m\n\u001b[0;32m---> 12\u001b[0;31m \u001b[0mplt\u001b[0m\u001b[0;34m.\u001b[0m\u001b[0msemilogx\u001b[0m\u001b[0;34m(\u001b[0m\u001b[0menergy_bins\u001b[0m\u001b[0;34m,\u001b[0m\u001b[0mneutron_flux\u001b[0m\u001b[0;34m.\u001b[0m\u001b[0mmean\u001b[0m\u001b[0;34m,\u001b[0m \u001b[0mdrawstyle\u001b[0m\u001b[0;34m=\u001b[0m\u001b[0;34m'steps'\u001b[0m\u001b[0;34m)\u001b[0m\u001b[0;34m\u001b[0m\u001b[0;34m\u001b[0m\u001b[0m\n\u001b[0m\u001b[1;32m     13\u001b[0m \u001b[0mplt\u001b[0m\u001b[0;34m.\u001b[0m\u001b[0mshow\u001b[0m\u001b[0;34m(\u001b[0m\u001b[0;34m)\u001b[0m\u001b[0;34m\u001b[0m\u001b[0;34m\u001b[0m\u001b[0m\n\u001b[1;32m     14\u001b[0m \u001b[0;34m\u001b[0m\u001b[0m\n",
      "\u001b[0;32m~/anaconda3/lib/python3.7/site-packages/matplotlib/pyplot.py\u001b[0m in \u001b[0;36msemilogx\u001b[0;34m(*args, **kwargs)\u001b[0m\n\u001b[1;32m   2847\u001b[0m \u001b[0;34m@\u001b[0m\u001b[0mdocstring\u001b[0m\u001b[0;34m.\u001b[0m\u001b[0mcopy\u001b[0m\u001b[0;34m(\u001b[0m\u001b[0mAxes\u001b[0m\u001b[0;34m.\u001b[0m\u001b[0msemilogx\u001b[0m\u001b[0;34m)\u001b[0m\u001b[0;34m\u001b[0m\u001b[0;34m\u001b[0m\u001b[0m\n\u001b[1;32m   2848\u001b[0m \u001b[0;32mdef\u001b[0m \u001b[0msemilogx\u001b[0m\u001b[0;34m(\u001b[0m\u001b[0;34m*\u001b[0m\u001b[0margs\u001b[0m\u001b[0;34m,\u001b[0m \u001b[0;34m**\u001b[0m\u001b[0mkwargs\u001b[0m\u001b[0;34m)\u001b[0m\u001b[0;34m:\u001b[0m\u001b[0;34m\u001b[0m\u001b[0;34m\u001b[0m\u001b[0m\n\u001b[0;32m-> 2849\u001b[0;31m     \u001b[0;32mreturn\u001b[0m \u001b[0mgca\u001b[0m\u001b[0;34m(\u001b[0m\u001b[0;34m)\u001b[0m\u001b[0;34m.\u001b[0m\u001b[0msemilogx\u001b[0m\u001b[0;34m(\u001b[0m\u001b[0;34m*\u001b[0m\u001b[0margs\u001b[0m\u001b[0;34m,\u001b[0m \u001b[0;34m**\u001b[0m\u001b[0mkwargs\u001b[0m\u001b[0;34m)\u001b[0m\u001b[0;34m\u001b[0m\u001b[0;34m\u001b[0m\u001b[0m\n\u001b[0m\u001b[1;32m   2850\u001b[0m \u001b[0;34m\u001b[0m\u001b[0m\n\u001b[1;32m   2851\u001b[0m \u001b[0;34m\u001b[0m\u001b[0m\n",
      "\u001b[0;32m~/anaconda3/lib/python3.7/site-packages/matplotlib/axes/_axes.py\u001b[0m in \u001b[0;36msemilogx\u001b[0;34m(self, *args, **kwargs)\u001b[0m\n\u001b[1;32m   1848\u001b[0m \u001b[0;34m\u001b[0m\u001b[0m\n\u001b[1;32m   1849\u001b[0m         \u001b[0mself\u001b[0m\u001b[0;34m.\u001b[0m\u001b[0mset_xscale\u001b[0m\u001b[0;34m(\u001b[0m\u001b[0;34m'log'\u001b[0m\u001b[0;34m,\u001b[0m \u001b[0;34m**\u001b[0m\u001b[0md\u001b[0m\u001b[0;34m)\u001b[0m\u001b[0;34m\u001b[0m\u001b[0;34m\u001b[0m\u001b[0m\n\u001b[0;32m-> 1850\u001b[0;31m         \u001b[0ml\u001b[0m \u001b[0;34m=\u001b[0m \u001b[0mself\u001b[0m\u001b[0;34m.\u001b[0m\u001b[0mplot\u001b[0m\u001b[0;34m(\u001b[0m\u001b[0;34m*\u001b[0m\u001b[0margs\u001b[0m\u001b[0;34m,\u001b[0m \u001b[0;34m**\u001b[0m\u001b[0mkwargs\u001b[0m\u001b[0;34m)\u001b[0m\u001b[0;34m\u001b[0m\u001b[0;34m\u001b[0m\u001b[0m\n\u001b[0m\u001b[1;32m   1851\u001b[0m         \u001b[0;32mreturn\u001b[0m \u001b[0ml\u001b[0m\u001b[0;34m\u001b[0m\u001b[0;34m\u001b[0m\u001b[0m\n\u001b[1;32m   1852\u001b[0m \u001b[0;34m\u001b[0m\u001b[0m\n",
      "\u001b[0;32m~/anaconda3/lib/python3.7/site-packages/matplotlib/axes/_axes.py\u001b[0m in \u001b[0;36mplot\u001b[0;34m(self, scalex, scaley, data, *args, **kwargs)\u001b[0m\n\u001b[1;32m   1664\u001b[0m         \"\"\"\n\u001b[1;32m   1665\u001b[0m         \u001b[0mkwargs\u001b[0m \u001b[0;34m=\u001b[0m \u001b[0mcbook\u001b[0m\u001b[0;34m.\u001b[0m\u001b[0mnormalize_kwargs\u001b[0m\u001b[0;34m(\u001b[0m\u001b[0mkwargs\u001b[0m\u001b[0;34m,\u001b[0m \u001b[0mmlines\u001b[0m\u001b[0;34m.\u001b[0m\u001b[0mLine2D\u001b[0m\u001b[0;34m.\u001b[0m\u001b[0m_alias_map\u001b[0m\u001b[0;34m)\u001b[0m\u001b[0;34m\u001b[0m\u001b[0;34m\u001b[0m\u001b[0m\n\u001b[0;32m-> 1666\u001b[0;31m         \u001b[0mlines\u001b[0m \u001b[0;34m=\u001b[0m \u001b[0;34m[\u001b[0m\u001b[0;34m*\u001b[0m\u001b[0mself\u001b[0m\u001b[0;34m.\u001b[0m\u001b[0m_get_lines\u001b[0m\u001b[0;34m(\u001b[0m\u001b[0;34m*\u001b[0m\u001b[0margs\u001b[0m\u001b[0;34m,\u001b[0m \u001b[0mdata\u001b[0m\u001b[0;34m=\u001b[0m\u001b[0mdata\u001b[0m\u001b[0;34m,\u001b[0m \u001b[0;34m**\u001b[0m\u001b[0mkwargs\u001b[0m\u001b[0;34m)\u001b[0m\u001b[0;34m]\u001b[0m\u001b[0;34m\u001b[0m\u001b[0;34m\u001b[0m\u001b[0m\n\u001b[0m\u001b[1;32m   1667\u001b[0m         \u001b[0;32mfor\u001b[0m \u001b[0mline\u001b[0m \u001b[0;32min\u001b[0m \u001b[0mlines\u001b[0m\u001b[0;34m:\u001b[0m\u001b[0;34m\u001b[0m\u001b[0;34m\u001b[0m\u001b[0m\n\u001b[1;32m   1668\u001b[0m             \u001b[0mself\u001b[0m\u001b[0;34m.\u001b[0m\u001b[0madd_line\u001b[0m\u001b[0;34m(\u001b[0m\u001b[0mline\u001b[0m\u001b[0;34m)\u001b[0m\u001b[0;34m\u001b[0m\u001b[0;34m\u001b[0m\u001b[0m\n",
      "\u001b[0;32m~/anaconda3/lib/python3.7/site-packages/matplotlib/axes/_base.py\u001b[0m in \u001b[0;36m__call__\u001b[0;34m(self, *args, **kwargs)\u001b[0m\n\u001b[1;32m    223\u001b[0m                 \u001b[0mthis\u001b[0m \u001b[0;34m+=\u001b[0m \u001b[0margs\u001b[0m\u001b[0;34m[\u001b[0m\u001b[0;36m0\u001b[0m\u001b[0;34m]\u001b[0m\u001b[0;34m,\u001b[0m\u001b[0;34m\u001b[0m\u001b[0;34m\u001b[0m\u001b[0m\n\u001b[1;32m    224\u001b[0m                 \u001b[0margs\u001b[0m \u001b[0;34m=\u001b[0m \u001b[0margs\u001b[0m\u001b[0;34m[\u001b[0m\u001b[0;36m1\u001b[0m\u001b[0;34m:\u001b[0m\u001b[0;34m]\u001b[0m\u001b[0;34m\u001b[0m\u001b[0;34m\u001b[0m\u001b[0m\n\u001b[0;32m--> 225\u001b[0;31m             \u001b[0;32myield\u001b[0m \u001b[0;32mfrom\u001b[0m \u001b[0mself\u001b[0m\u001b[0;34m.\u001b[0m\u001b[0m_plot_args\u001b[0m\u001b[0;34m(\u001b[0m\u001b[0mthis\u001b[0m\u001b[0;34m,\u001b[0m \u001b[0mkwargs\u001b[0m\u001b[0;34m)\u001b[0m\u001b[0;34m\u001b[0m\u001b[0;34m\u001b[0m\u001b[0m\n\u001b[0m\u001b[1;32m    226\u001b[0m \u001b[0;34m\u001b[0m\u001b[0m\n\u001b[1;32m    227\u001b[0m     \u001b[0;32mdef\u001b[0m \u001b[0mget_next_color\u001b[0m\u001b[0;34m(\u001b[0m\u001b[0mself\u001b[0m\u001b[0;34m)\u001b[0m\u001b[0;34m:\u001b[0m\u001b[0;34m\u001b[0m\u001b[0;34m\u001b[0m\u001b[0m\n",
      "\u001b[0;32m~/anaconda3/lib/python3.7/site-packages/matplotlib/axes/_base.py\u001b[0m in \u001b[0;36m_plot_args\u001b[0;34m(self, tup, kwargs)\u001b[0m\n\u001b[1;32m    389\u001b[0m             \u001b[0mx\u001b[0m\u001b[0;34m,\u001b[0m \u001b[0my\u001b[0m \u001b[0;34m=\u001b[0m \u001b[0mindex_of\u001b[0m\u001b[0;34m(\u001b[0m\u001b[0mtup\u001b[0m\u001b[0;34m[\u001b[0m\u001b[0;34m-\u001b[0m\u001b[0;36m1\u001b[0m\u001b[0;34m]\u001b[0m\u001b[0;34m)\u001b[0m\u001b[0;34m\u001b[0m\u001b[0;34m\u001b[0m\u001b[0m\n\u001b[1;32m    390\u001b[0m \u001b[0;34m\u001b[0m\u001b[0m\n\u001b[0;32m--> 391\u001b[0;31m         \u001b[0mx\u001b[0m\u001b[0;34m,\u001b[0m \u001b[0my\u001b[0m \u001b[0;34m=\u001b[0m \u001b[0mself\u001b[0m\u001b[0;34m.\u001b[0m\u001b[0m_xy_from_xy\u001b[0m\u001b[0;34m(\u001b[0m\u001b[0mx\u001b[0m\u001b[0;34m,\u001b[0m \u001b[0my\u001b[0m\u001b[0;34m)\u001b[0m\u001b[0;34m\u001b[0m\u001b[0;34m\u001b[0m\u001b[0m\n\u001b[0m\u001b[1;32m    392\u001b[0m \u001b[0;34m\u001b[0m\u001b[0m\n\u001b[1;32m    393\u001b[0m         \u001b[0;32mif\u001b[0m \u001b[0mself\u001b[0m\u001b[0;34m.\u001b[0m\u001b[0mcommand\u001b[0m \u001b[0;34m==\u001b[0m \u001b[0;34m'plot'\u001b[0m\u001b[0;34m:\u001b[0m\u001b[0;34m\u001b[0m\u001b[0;34m\u001b[0m\u001b[0m\n",
      "\u001b[0;32m~/anaconda3/lib/python3.7/site-packages/matplotlib/axes/_base.py\u001b[0m in \u001b[0;36m_xy_from_xy\u001b[0;34m(self, x, y)\u001b[0m\n\u001b[1;32m    268\u001b[0m         \u001b[0;32mif\u001b[0m \u001b[0mx\u001b[0m\u001b[0;34m.\u001b[0m\u001b[0mshape\u001b[0m\u001b[0;34m[\u001b[0m\u001b[0;36m0\u001b[0m\u001b[0;34m]\u001b[0m \u001b[0;34m!=\u001b[0m \u001b[0my\u001b[0m\u001b[0;34m.\u001b[0m\u001b[0mshape\u001b[0m\u001b[0;34m[\u001b[0m\u001b[0;36m0\u001b[0m\u001b[0;34m]\u001b[0m\u001b[0;34m:\u001b[0m\u001b[0;34m\u001b[0m\u001b[0;34m\u001b[0m\u001b[0m\n\u001b[1;32m    269\u001b[0m             raise ValueError(\"x and y must have same first dimension, but \"\n\u001b[0;32m--> 270\u001b[0;31m                              \"have shapes {} and {}\".format(x.shape, y.shape))\n\u001b[0m\u001b[1;32m    271\u001b[0m         \u001b[0;32mif\u001b[0m \u001b[0mx\u001b[0m\u001b[0;34m.\u001b[0m\u001b[0mndim\u001b[0m \u001b[0;34m>\u001b[0m \u001b[0;36m2\u001b[0m \u001b[0;32mor\u001b[0m \u001b[0my\u001b[0m\u001b[0;34m.\u001b[0m\u001b[0mndim\u001b[0m \u001b[0;34m>\u001b[0m \u001b[0;36m2\u001b[0m\u001b[0;34m:\u001b[0m\u001b[0;34m\u001b[0m\u001b[0;34m\u001b[0m\u001b[0m\n\u001b[1;32m    272\u001b[0m             raise ValueError(\"x and y can be no greater than 2-D, but have \"\n",
      "\u001b[0;31mValueError\u001b[0m: x and y must have same first dimension, but have shapes (50,) and (40000, 1, 1)"
     ]
    },
    {
     "data": {
      "image/png": "[encoded data removed]",
      "text/plain": [
       "<Figure size 432x288 with 1 Axes>"
      ]
     },
     "metadata": {
      "needs_background": "light"
     },
     "output_type": "display_data"
    }
   ],
   "source": [
    "'''#Log-spaced energybins\n",
    "energy_bins = np.logspace(-1,7)\n",
    "\n",
    "#Calculate pdf for source energies\n",
    "probability, bin_edges = np.histogram(sp.source['E'], energy_bins, density=True)\n",
    "\n",
    "#Make sure integrating the PDF gives us unity\n",
    "print(sum(probability*np.diff(energy_bins)))\n",
    "\n",
    "\n",
    "\n",
    "plt.semilogx(energy_bins,neutron_flux.mean, drawstyle='steps')\n",
    "plt.show()\n",
    "'''\n",
    "\n",
    "'''\n",
    "#Plot source energy PDF:\n",
    "plt.semilogx(energy_bins[:-1], probability*np.diff(energy_bins), drawstyle='steps')\n",
    "plt.xlabel('Energy (eV)')\n",
    "plt.ylabel('Probability/eV')\n",
    "plt.show()\n",
    "'''"
   ]
  },
  {
   "cell_type": "markdown",
   "metadata": {},
   "source": [
    "Spatial distribution of the sites:"
   ]
  },
  {
   "cell_type": "code",
   "execution_count": null,
   "metadata": {},
   "outputs": [],
   "source": [
    "plt.quiver(sp.source['r']['x'], sp.source['r']['y'],\n",
    "           sp.source['u']['x'], sp.source['u']['y'],\n",
    "           np.log(sp.source['E']), cmap='jet', scale=20.0)\n",
    "plt.colorbar()\n",
    "plt.xlim((-100,100))\n",
    "plt.ylim((-100,100))\n",
    "plt.show()"
   ]
  },
  {
   "cell_type": "markdown",
   "metadata": {},
   "source": [
    "Tally data processing:"
   ]
  },
  {
   "cell_type": "code",
   "execution_count": null,
   "metadata": {},
   "outputs": [],
   "source": [
    "tally_info = sp.get_tally()\n",
    "\n",
    "# Get a pandas dataframe for the mesh tally data\n",
    "df = tally_info.get_pandas_dataframe(nuclides=False)\n",
    "\n",
    "# Set the Pandas float display settings\n",
    "pd.options.display.float_format = '{:.2e}'.format\n",
    "\n",
    "# Print the first twenty rows in the dataframe\n",
    "df.head(20)"
   ]
  },
  {
   "cell_type": "code",
   "execution_count": null,
   "metadata": {},
   "outputs": [],
   "source": []
  },
  {
   "cell_type": "code",
   "execution_count": null,
   "metadata": {},
   "outputs": [],
   "source": []
  },
  {
   "cell_type": "code",
   "execution_count": null,
   "metadata": {},
   "outputs": [],
   "source": []
  },
  {
   "cell_type": "code",
   "execution_count": null,
   "metadata": {},
   "outputs": [],
   "source": []
  },
  {
   "cell_type": "code",
   "execution_count": null,
   "metadata": {},
   "outputs": [],
   "source": []
  },
  {
   "cell_type": "code",
   "execution_count": null,
   "metadata": {},
   "outputs": [],
   "source": []
  },
  {
   "cell_type": "code",
   "execution_count": null,
   "metadata": {},
   "outputs": [],
   "source": []
  },
  {
   "cell_type": "code",
   "execution_count": null,
   "metadata": {},
   "outputs": [],
   "source": []
  },
  {
   "cell_type": "code",
   "execution_count": null,
   "metadata": {},
   "outputs": [],
   "source": []
  },
  {
   "cell_type": "code",
   "execution_count": null,
   "metadata": {},
   "outputs": [],
   "source": []
  },
  {
   "cell_type": "code",
   "execution_count": null,
   "metadata": {},
   "outputs": [],
   "source": []
  },
  {
   "cell_type": "code",
   "execution_count": null,
   "metadata": {},
   "outputs": [],
   "source": []
  },
  {
   "cell_type": "code",
   "execution_count": null,
   "metadata": {},
   "outputs": [],
   "source": []
  },
  {
   "cell_type": "code",
   "execution_count": null,
   "metadata": {},
   "outputs": [],
   "source": []
  },
  {
   "cell_type": "code",
   "execution_count": null,
   "metadata": {},
   "outputs": [],
   "source": []
  },
  {
   "cell_type": "code",
   "execution_count": null,
   "metadata": {},
   "outputs": [],
   "source": []
  },
  {
   "cell_type": "code",
   "execution_count": null,
   "metadata": {},
   "outputs": [],
   "source": []
  },
  {
   "cell_type": "code",
   "execution_count": null,
   "metadata": {},
   "outputs": [],
   "source": []
  },
  {
   "cell_type": "code",
   "execution_count": null,
   "metadata": {},
   "outputs": [],
   "source": []
  },
  {
   "cell_type": "code",
   "execution_count": null,
   "metadata": {},
   "outputs": [],
   "source": []
  },
  {
   "cell_type": "code",
   "execution_count": null,
   "metadata": {},
   "outputs": [],
   "source": []
  },
  {
   "cell_type": "code",
   "execution_count": null,
   "metadata": {},
   "outputs": [],
   "source": []
  },
  {
   "cell_type": "code",
   "execution_count": null,
   "metadata": {},
   "outputs": [],
   "source": []
  },
  {
   "cell_type": "code",
   "execution_count": null,
   "metadata": {},
   "outputs": [],
   "source": []
  },
  {
   "cell_type": "code",
   "execution_count": null,
   "metadata": {},
   "outputs": [],
   "source": []
  },
  {
   "cell_type": "code",
   "execution_count": null,
   "metadata": {},
   "outputs": [],
   "source": []
  },
  {
   "cell_type": "code",
   "execution_count": null,
   "metadata": {},
   "outputs": [],
   "source": []
  },
  {
   "cell_type": "code",
   "execution_count": null,
   "metadata": {},
   "outputs": [],
   "source": []
  },
  {
   "cell_type": "code",
   "execution_count": null,
   "metadata": {},
   "outputs": [],
   "source": []
  },
  {
   "cell_type": "code",
   "execution_count": null,
   "metadata": {},
   "outputs": [],
   "source": []
  },
  {
   "cell_type": "code",
   "execution_count": null,
   "metadata": {},
   "outputs": [],
   "source": []
  },
  {
   "cell_type": "code",
   "execution_count": null,
   "metadata": {},
   "outputs": [],
   "source": []
  },
  {
   "cell_type": "code",
   "execution_count": null,
   "metadata": {},
   "outputs": [],
   "source": []
  },
  {
   "cell_type": "code",
   "execution_count": null,
   "metadata": {},
   "outputs": [],
   "source": []
  },
  {
   "cell_type": "code",
   "execution_count": null,
   "metadata": {},
   "outputs": [],
   "source": []
  },
  {
   "cell_type": "code",
   "execution_count": null,
   "metadata": {},
   "outputs": [],
   "source": []
  },
  {
   "cell_type": "code",
   "execution_count": null,
   "metadata": {},
   "outputs": [],
   "source": []
  },
  {
   "cell_type": "code",
   "execution_count": null,
   "metadata": {},
   "outputs": [],
   "source": []
  },
  {
   "cell_type": "code",
   "execution_count": null,
   "metadata": {},
   "outputs": [],
   "source": []
  },
  {
   "cell_type": "code",
   "execution_count": null,
   "metadata": {},
   "outputs": [],
   "source": []
  },
  {
   "cell_type": "code",
   "execution_count": null,
   "metadata": {},
   "outputs": [],
   "source": []
  },
  {
   "cell_type": "code",
   "execution_count": null,
   "metadata": {},
   "outputs": [],
   "source": []
  },
  {
   "cell_type": "code",
   "execution_count": null,
   "metadata": {},
   "outputs": [],
   "source": []
  },
  {
   "cell_type": "code",
   "execution_count": null,
   "metadata": {},
   "outputs": [],
   "source": []
  },
  {
   "cell_type": "code",
   "execution_count": null,
   "metadata": {},
   "outputs": [],
   "source": []
  },
  {
   "cell_type": "code",
   "execution_count": null,
   "metadata": {},
   "outputs": [],
   "source": []
  },
  {
   "cell_type": "code",
   "execution_count": null,
   "metadata": {},
   "outputs": [],
   "source": []
  },
  {
   "cell_type": "code",
   "execution_count": null,
   "metadata": {},
   "outputs": [],
   "source": []
  },
  {
   "cell_type": "code",
   "execution_count": null,
   "metadata": {},
   "outputs": [],
   "source": []
  },
  {
   "cell_type": "code",
   "execution_count": null,
   "metadata": {},
   "outputs": [],
   "source": []
  },
  {
   "cell_type": "code",
   "execution_count": null,
   "metadata": {},
   "outputs": [],
   "source": []
  },
  {
   "cell_type": "code",
   "execution_count": null,
   "metadata": {},
   "outputs": [],
   "source": []
  },
  {
   "cell_type": "code",
   "execution_count": null,
   "metadata": {},
   "outputs": [],
   "source": []
  },
  {
   "cell_type": "code",
   "execution_count": null,
   "metadata": {},
   "outputs": [],
   "source": []
  },
  {
   "cell_type": "code",
   "execution_count": null,
   "metadata": {},
   "outputs": [],
   "source": []
  },
  {
   "cell_type": "code",
   "execution_count": null,
   "metadata": {},
   "outputs": [],
   "source": []
  },
  {
   "cell_type": "code",
   "execution_count": null,
   "metadata": {},
   "outputs": [],
   "source": []
  },
  {
   "cell_type": "code",
   "execution_count": null,
   "metadata": {},
   "outputs": [],
   "source": []
  },
  {
   "cell_type": "code",
   "execution_count": null,
   "metadata": {},
   "outputs": [],
   "source": []
  },
  {
   "cell_type": "code",
   "execution_count": null,
   "metadata": {},
   "outputs": [],
   "source": []
  },
  {
   "cell_type": "code",
   "execution_count": null,
   "metadata": {},
   "outputs": [],
   "source": []
  },
  {
   "cell_type": "code",
   "execution_count": null,
   "metadata": {},
   "outputs": [],
   "source": []
  },
  {
   "cell_type": "code",
   "execution_count": null,
   "metadata": {},
   "outputs": [],
   "source": []
  },
  {
   "cell_type": "code",
   "execution_count": null,
   "metadata": {},
   "outputs": [],
   "source": []
  },
  {
   "cell_type": "code",
   "execution_count": null,
   "metadata": {},
   "outputs": [],
   "source": []
  },
  {
   "cell_type": "code",
   "execution_count": null,
   "metadata": {},
   "outputs": [],
   "source": []
  },
  {
   "cell_type": "code",
   "execution_count": null,
   "metadata": {},
   "outputs": [],
   "source": []
  },
  {
   "cell_type": "code",
   "execution_count": null,
   "metadata": {},
   "outputs": [],
   "source": []
  },
  {
   "cell_type": "code",
   "execution_count": null,
   "metadata": {},
   "outputs": [],
   "source": []
  },
  {
   "cell_type": "code",
   "execution_count": null,
   "metadata": {},
   "outputs": [],
   "source": []
  },
  {
   "cell_type": "code",
   "execution_count": null,
   "metadata": {},
   "outputs": [],
   "source": []
  },
  {
   "cell_type": "code",
   "execution_count": null,
   "metadata": {},
   "outputs": [],
   "source": []
  },
  {
   "cell_type": "code",
   "execution_count": null,
   "metadata": {},
   "outputs": [],
   "source": []
  },
  {
   "cell_type": "code",
   "execution_count": null,
   "metadata": {},
   "outputs": [],
   "source": []
  },
  {
   "cell_type": "code",
   "execution_count": null,
   "metadata": {},
   "outputs": [],
   "source": []
  },
  {
   "cell_type": "code",
   "execution_count": null,
   "metadata": {},
   "outputs": [],
   "source": []
  },
  {
   "cell_type": "code",
   "execution_count": null,
   "metadata": {},
   "outputs": [],
   "source": []
  },
  {
   "cell_type": "code",
   "execution_count": null,
   "metadata": {},
   "outputs": [],
   "source": []
  },
  {
   "cell_type": "code",
   "execution_count": null,
   "metadata": {},
   "outputs": [],
   "source": []
  },
  {
   "cell_type": "code",
   "execution_count": null,
   "metadata": {},
   "outputs": [],
   "source": []
  },
  {
   "cell_type": "code",
   "execution_count": null,
   "metadata": {},
   "outputs": [],
   "source": []
  },
  {
   "cell_type": "code",
   "execution_count": null,
   "metadata": {},
   "outputs": [],
   "source": []
  },
  {
   "cell_type": "code",
   "execution_count": null,
   "metadata": {},
   "outputs": [],
   "source": []
  },
  {
   "cell_type": "code",
   "execution_count": null,
   "metadata": {},
   "outputs": [],
   "source": []
  },
  {
   "cell_type": "code",
   "execution_count": null,
   "metadata": {},
   "outputs": [],
   "source": []
  },
  {
   "cell_type": "code",
   "execution_count": null,
   "metadata": {},
   "outputs": [],
   "source": []
  },
  {
   "cell_type": "code",
   "execution_count": null,
   "metadata": {},
   "outputs": [],
   "source": []
  },
  {
   "cell_type": "code",
   "execution_count": null,
   "metadata": {},
   "outputs": [],
   "source": []
  },
  {
   "cell_type": "code",
   "execution_count": null,
   "metadata": {},
   "outputs": [],
   "source": []
  },
  {
   "cell_type": "code",
   "execution_count": null,
   "metadata": {},
   "outputs": [],
   "source": []
  },
  {
   "cell_type": "code",
   "execution_count": null,
   "metadata": {},
   "outputs": [],
   "source": []
  },
  {
   "cell_type": "code",
   "execution_count": null,
   "metadata": {},
   "outputs": [],
   "source": []
  },
  {
   "cell_type": "code",
   "execution_count": null,
   "metadata": {},
   "outputs": [],
   "source": []
  },
  {
   "cell_type": "code",
   "execution_count": null,
   "metadata": {},
   "outputs": [],
   "source": []
  },
  {
   "cell_type": "code",
   "execution_count": null,
   "metadata": {},
   "outputs": [],
   "source": []
  },
  {
   "cell_type": "code",
   "execution_count": null,
   "metadata": {},
   "outputs": [],
   "source": []
  },
  {
   "cell_type": "code",
   "execution_count": null,
   "metadata": {},
   "outputs": [],
   "source": []
  },
  {
   "cell_type": "code",
   "execution_count": null,
   "metadata": {},
   "outputs": [],
   "source": []
  },
  {
   "cell_type": "code",
   "execution_count": null,
   "metadata": {},
   "outputs": [],
   "source": []
  },
  {
   "cell_type": "code",
   "execution_count": null,
   "metadata": {},
   "outputs": [],
   "source": []
  },
  {
   "cell_type": "code",
   "execution_count": null,
   "metadata": {},
   "outputs": [],
   "source": []
  },
  {
   "cell_type": "code",
   "execution_count": null,
   "metadata": {},
   "outputs": [],
   "source": []
  },
  {
   "cell_type": "code",
   "execution_count": null,
   "metadata": {},
   "outputs": [],
   "source": []
  },
  {
   "cell_type": "code",
   "execution_count": null,
   "metadata": {},
   "outputs": [],
   "source": []
  },
  {
   "cell_type": "code",
   "execution_count": null,
   "metadata": {},
   "outputs": [],
   "source": []
  },
  {
   "cell_type": "code",
   "execution_count": null,
   "metadata": {},
   "outputs": [],
   "source": []
  },
  {
   "cell_type": "code",
   "execution_count": null,
   "metadata": {},
   "outputs": [],
   "source": []
  },
  {
   "cell_type": "code",
   "execution_count": null,
   "metadata": {},
   "outputs": [],
   "source": []
  },
  {
   "cell_type": "code",
   "execution_count": null,
   "metadata": {},
   "outputs": [],
   "source": []
  },
  {
   "cell_type": "code",
   "execution_count": null,
   "metadata": {},
   "outputs": [],
   "source": []
  }
 ],
 "metadata": {
  "kernelspec": {
   "display_name": "Python 3",
   "language": "python",
   "name": "python3"
  },
  "language_info": {
   "codemirror_mode": {
    "name": "ipython",
    "version": 3
   },
   "file_extension": ".py",
   "mimetype": "text/x-python",
   "name": "python",
   "nbconvert_exporter": "python",
   "pygments_lexer": "ipython3",
   "version": "3.7.3"
  }
 },
 "nbformat": 4,
 "nbformat_minor": 4
}
